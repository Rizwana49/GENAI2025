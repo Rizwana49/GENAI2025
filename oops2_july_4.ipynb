{
  "nbformat": 4,
  "nbformat_minor": 0,
  "metadata": {
    "colab": {
      "provenance": []
    },
    "kernelspec": {
      "name": "python3",
      "display_name": "Python 3"
    },
    "language_info": {
      "name": "python"
    }
  },
  "cells": [
    {
      "cell_type": "markdown",
      "source": [
        "single inheritance"
      ],
      "metadata": {
        "id": "UOKMQIiZtna_"
      }
    },
    {
      "cell_type": "code",
      "source": [
        "# Base Class\n",
        "class Animal:\n",
        "    def __init__(self, name):\n",
        "        self.name = name\n",
        "        print(f\"[Animal] Initialized: {self.name}\")\n",
        "\n",
        "    def make_sound(self):\n",
        "        print(f\"[Animal] {self.name} is making a sound.\")\n",
        "\n",
        "# Derived Class\n",
        "class Dog(Animal):\n",
        "    def __init__(self, name, breed):\n",
        "        super().__init__(name)\n",
        "        self.breed = breed\n",
        "        print(f\"[Dog] Initialized: {self.breed}\")\n",
        "\n",
        "    def bark(self):\n",
        "        print(f\"[Dog] {self.name} the {self.breed} is barking!\")\n",
        "\n",
        "# Object creation and method calls\n",
        "my_dog = Dog(\"Buddy\", \"Labrador\")\n",
        "\n",
        "my_dog.make_sound()\n",
        "my_dog.bark()"
      ],
      "metadata": {
        "colab": {
          "base_uri": "https://localhost:8080/"
        },
        "id": "0NvZBhSGth4s",
        "outputId": "380a8ef0-3ada-4490-9e5c-6ebfa94ee4c6"
      },
      "execution_count": 3,
      "outputs": [
        {
          "output_type": "stream",
          "name": "stdout",
          "text": [
            "[Animal] Initialized: Buddy\n",
            "[Dog] Initialized: Labrador\n",
            "[Animal] Buddy is making a sound.\n",
            "[Dog] Buddy the Labrador is barking!\n"
          ]
        }
      ]
    },
    {
      "cell_type": "code",
      "source": [
        "class Fruit:\n",
        "    def __init__(self, color):\n",
        "        self.color = color\n",
        "        print(f\"[Fruit] Color: {self.color}\")\n",
        "\n",
        "    def describe(self):\n",
        "        print(f\"[Fruit] This fruit is {self.color}.\")\n",
        "\n",
        "# Derived Class\n",
        "class Apple(Fruit):\n",
        "    def __init__(self, color, taste):\n",
        "        super().__init__(color)\n",
        "        self.taste = taste\n",
        "        print(f\"[Apple] Taste: {self.taste}\")\n",
        "\n",
        "    def describe(self):\n",
        "        print(f\"[Apple] This apple tastes {self.taste}.\")\n",
        "\n",
        "# Object creation and method calls\n",
        "my_apple = Apple(\"Red\", \"Sweet\")\n",
        "my_apple.describe()\n",
        "my_apple.describe()"
      ],
      "metadata": {
        "colab": {
          "base_uri": "https://localhost:8080/"
        },
        "id": "wKmDVFzrth7D",
        "outputId": "bdbe8978-9b5e-48b2-d385-3e926f65b58b"
      },
      "execution_count": 4,
      "outputs": [
        {
          "output_type": "stream",
          "name": "stdout",
          "text": [
            "[Fruit] Color: Red\n",
            "[Apple] Taste: Sweet\n",
            "[Apple] This apple tastes Sweet.\n",
            "[Apple] This apple tastes Sweet.\n"
          ]
        }
      ]
    },
    {
      "cell_type": "code",
      "source": [
        "class Book:\n",
        "    def __init__(self, title):\n",
        "        self.title = title\n",
        "        print(f\"[Book] Title: {self.title}\")\n",
        "\n",
        "    def read(self):\n",
        "        print(f\"[Book] Reading {self.title}\")\n",
        "\n",
        "# Derived Class\n",
        "class Novel(Book):\n",
        "    def __init__(self, title, author):\n",
        "        super().__init__(title)\n",
        "        self.author = author\n",
        "        print(f\"[Novel] Author: {self.author}\")\n",
        "\n",
        "    def read(self):\n",
        "        print(f\"[Novel] {self.title} by {self.author}\")\n",
        "\n",
        "# Object creation and method calls\n",
        "my_novel = Novel(\"1984\", \"George Orwell\")\n",
        "my_novel.read()\n",
        "my_novel.read()"
      ],
      "metadata": {
        "colab": {
          "base_uri": "https://localhost:8080/"
        },
        "id": "x_BcKI0pth9Z",
        "outputId": "d29e832a-c6fb-4083-9b30-9ca2f3a8e2f3"
      },
      "execution_count": 5,
      "outputs": [
        {
          "output_type": "stream",
          "name": "stdout",
          "text": [
            "[Book] Title: 1984\n",
            "[Novel] Author: George Orwell\n",
            "[Novel] 1984 by George Orwell\n",
            "[Novel] 1984 by George Orwell\n"
          ]
        }
      ]
    },
    {
      "cell_type": "markdown",
      "source": [
        "Multilevelinheritance"
      ],
      "metadata": {
        "id": "o31z735tx1Eb"
      }
    },
    {
      "cell_type": "code",
      "source": [
        "# Base Class (Level 1)\n",
        "class Car:\n",
        "    def __init__(self, brand):\n",
        "        self.brand = brand\n",
        "        print(f\"[Car] Initialized for brand: {self.brand}\")\n",
        "\n",
        "    def start_engine(self):\n",
        "        print(f\"[Car] Starting engine of {self.brand}\")\n",
        "\n",
        "# Derived Class (Level 2)\n",
        "class Vehicle(Car):\n",
        "    def __init__(self, brand, model):\n",
        "        super().__init__(brand)\n",
        "        self.model = model\n",
        "        print(f\"[Vehicle] Initialized for model: {self.model}\")\n",
        "\n",
        "    def drive(self):\n",
        "        print(f\"[Vehicle] Driving {self.brand} {self.model}\")\n",
        "\n",
        "# Derived Class (Level 3)\n",
        "class ElectricCar(Vehicle):\n",
        "    def __init__(self, brand, model, battery_range):\n",
        "        super().__init__(brand, model)\n",
        "        self.battery_range = battery_range\n",
        "        print(f\"[ElectricCar] Initialized with range: {self.battery_range} km\")\n",
        "\n",
        "    def charge(self):\n",
        "        print(f\"[ElectricCar] Charging {self.brand} {self.model}... Range: {self.battery_range} km\")\n",
        "\n",
        "    def start_engine(self):\n",
        "        print(f\"[ElectricCar] No engine to start. {self.brand} {self.model} is electric!\")\n",
        "\n",
        "# Object creation and method calls\n",
        "my_electric_car = ElectricCar(\"Tesla\", \"Model 3\", 500)\n",
        "my_electric_car.start_engine()\n",
        "my_electric_car.drive()\n",
        "my_electric_car.charge()"
      ],
      "metadata": {
        "colab": {
          "base_uri": "https://localhost:8080/"
        },
        "id": "3DmjeuAutiKM",
        "outputId": "c310c283-f1c9-4592-b317-99647bb12e8b"
      },
      "execution_count": 11,
      "outputs": [
        {
          "output_type": "stream",
          "name": "stdout",
          "text": [
            "[Car] Initialized for brand: Tesla\n",
            "[Vehicle] Initialized for model: Model 3\n",
            "[ElectricCar] Initialized with range: 500 km\n",
            "[ElectricCar] No engine to start. Tesla Model 3 is electric!\n",
            "[Vehicle] Driving Tesla Model 3\n",
            "[ElectricCar] Charging Tesla Model 3... Range: 500 km\n"
          ]
        }
      ]
    },
    {
      "cell_type": "code",
      "source": [
        "class Device:\n",
        "    def __init__(self, name):\n",
        "        self.name = name\n",
        "        print(f\"[Device] Name: {self.name}\")\n",
        "\n",
        "    def power_on(self):\n",
        "        print(f\"[Device] Powering on {self.name}\")\n",
        "\n",
        "# Derived Class 1\n",
        "class Computer(Device):\n",
        "    def __init__(self, name, os):\n",
        "        super().__init__(name)\n",
        "        self.os = os\n",
        "        print(f\"[Computer] OS: {self.os}\")\n",
        "\n",
        "    def boot(self):\n",
        "        print(f\"[Computer] Booting {self.name} with {self.os}\")\n",
        "\n",
        "# Derived Class 2\n",
        "class Laptop(Computer):\n",
        "    def __init__(self, name, os, version):\n",
        "        super().__init__(name, os)\n",
        "        self.version = version\n",
        "        print(f\"[Laptop] Version: {self.version}\")\n",
        "\n",
        "    def run(self):\n",
        "        print(f\"[Laptop] {self.name} running {self.os} v{self.version}\")\n",
        "\n",
        "# Object creation and method calls\n",
        "my_laptop = Laptop(\"ThinkPad\", \"Windows\", \"10\")\n",
        "my_laptop.power_on()\n",
        "my_laptop.boot()\n",
        "my_laptop.run()"
      ],
      "metadata": {
        "colab": {
          "base_uri": "https://localhost:8080/"
        },
        "id": "OXnWcMMdtiNJ",
        "outputId": "4b6383bc-c919-4923-fe6d-6c9998b4e816"
      },
      "execution_count": 12,
      "outputs": [
        {
          "output_type": "stream",
          "name": "stdout",
          "text": [
            "[Device] Name: ThinkPad\n",
            "[Computer] OS: Windows\n",
            "[Laptop] Version: 10\n",
            "[Device] Powering on ThinkPad\n",
            "[Computer] Booting ThinkPad with Windows\n",
            "[Laptop] ThinkPad running Windows v10\n"
          ]
        }
      ]
    },
    {
      "cell_type": "markdown",
      "source": [
        "MultipleInheritance"
      ],
      "metadata": {
        "id": "nh2PrIXv2l7n"
      }
    },
    {
      "cell_type": "code",
      "source": [
        "class Bird:\n",
        "    def __init__(self):\n",
        "        print(\"[Flyer] Can fly!\")\n",
        "    def Fly(self):\n",
        "        print(\"[Flyer] Flying...\")\n",
        "\n",
        "# Base Class 2\n",
        "class Swimmer:\n",
        "    def __init__(self):\n",
        "        print(\"[Swimmer] Can swim!\")\n",
        "    def swim(self):\n",
        "        print(\"[Swimmer] Swimming...\")\n",
        "\n",
        "# Derived Class\n",
        "class Duck(Bird, Swimmer):\n",
        "    def __init__(self):\n",
        "        Bird.__init__(self)\n",
        "        Swimmer.__init__(self)\n",
        "        print(\"[Duck] Initialized!\")\n",
        "\n",
        "    def Quack(self):\n",
        "        print(\"[Duck] Quacking!\")\n",
        "\n",
        "# Object creation and method calls\n",
        "donald = Duck()\n",
        "donald.Fly()\n",
        "donald.Quack()\n",
        "donald.swim()"
      ],
      "metadata": {
        "colab": {
          "base_uri": "https://localhost:8080/"
        },
        "id": "whzui4xTtiQB",
        "outputId": "998dc43d-c1af-44b5-e792-dafce1861a4b"
      },
      "execution_count": 13,
      "outputs": [
        {
          "output_type": "stream",
          "name": "stdout",
          "text": [
            "[Flyer] Can fly!\n",
            "[Swimmer] Can swim!\n",
            "[Duck] Initialized!\n",
            "[Flyer] Flying...\n",
            "[Duck] Quacking!\n",
            "[Swimmer] Swimming...\n"
          ]
        }
      ]
    },
    {
      "cell_type": "code",
      "source": [
        "# Base Class 1\n",
        "class Walker:\n",
        "    def walk(self):\n",
        "        print(\"[Walker] Walking...\")\n",
        "\n",
        "# Base Class 2\n",
        "class Runner:\n",
        "    def run(self):\n",
        "        print(\"[Runner] Running...\")\n",
        "\n",
        "# Derived Class\n",
        "class Athlete(Walker, Runner):\n",
        "    def compete(self):\n",
        "        print(\"[Athlete] Competing!\")\n",
        "\n",
        "# Object creation and method calls\n",
        "athlete = Athlete()\n",
        "athlete.walk()\n",
        "athlete.run()\n",
        "athlete.compete()"
      ],
      "metadata": {
        "colab": {
          "base_uri": "https://localhost:8080/"
        },
        "id": "0reO6aVstiU2",
        "outputId": "cb306d8e-5b0b-4c69-fa2d-0d3f704db1c2"
      },
      "execution_count": 14,
      "outputs": [
        {
          "output_type": "stream",
          "name": "stdout",
          "text": [
            "[Walker] Walking...\n",
            "[Runner] Running...\n",
            "[Athlete] Competing!\n"
          ]
        }
      ]
    },
    {
      "cell_type": "code",
      "source": [
        "# Base Class 1\n",
        "class Painter:\n",
        "    def Painter(self):\n",
        "        print(\"[Painter] Painting...\")\n",
        "\n",
        "# Base Class 2\n",
        "class Singer:\n",
        "    def Singer(self):\n",
        "        print(\"[Singer] Singing...\")\n",
        "\n",
        "# Derived Class\n",
        "class Artist(Painter, Singer):\n",
        "    def Perform(self):\n",
        "        print(\"[Artist] Performing!\")\n",
        "\n",
        "# Object creation and method calls\n",
        "artist = Artist()\n",
        "artist.Painter()\n",
        "artist.Singer()\n",
        "artist.Perform()"
      ],
      "metadata": {
        "colab": {
          "base_uri": "https://localhost:8080/"
        },
        "id": "xybV8ggetiZK",
        "outputId": "f53da184-e4ad-4a74-900c-dffe47c634f6"
      },
      "execution_count": 15,
      "outputs": [
        {
          "output_type": "stream",
          "name": "stdout",
          "text": [
            "[Painter] Painting...\n",
            "[Singer] Singing...\n",
            "[Artist] Performing!\n"
          ]
        }
      ]
    },
    {
      "cell_type": "markdown",
      "source": [
        "HybridInheritance"
      ],
      "metadata": {
        "id": "WXExeHNK6jjv"
      }
    },
    {
      "cell_type": "code",
      "source": [
        "class Person:\n",
        "    def __init__(self, name):\n",
        "        self.name = name\n",
        "        print(f\"[Person] Initialized: {self.name}\")\n",
        "\n",
        "# Parent Class 1\n",
        "class Employee(Person):\n",
        "    def work(self):\n",
        "        print(\"[Employee] Working...\")\n",
        "\n",
        "# Parent Class 2\n",
        "class Student(Person):\n",
        "    def study(self):\n",
        "        print(\"[Student] Studying...\")\n",
        "\n",
        "# Derived Class (Hybrid)\n",
        "class Intern(Employee, Student):\n",
        "    def __init__(self, name):\n",
        "        super().__init__(name)\n",
        "        print(\"[Intern] Initialized!\")\n",
        "\n",
        "    def intern(self):\n",
        "        print(f\"[Intern] {self.name} is interning!\")\n",
        "\n",
        "# Object creation and method calls\n",
        "intern = Intern(\"Alice\")\n",
        "intern.work()\n",
        "intern.study()\n",
        "intern.intern()"
      ],
      "metadata": {
        "colab": {
          "base_uri": "https://localhost:8080/"
        },
        "id": "LbwWks-wtibR",
        "outputId": "356077e3-6b8a-4666-ddcf-00808cbe6f01"
      },
      "execution_count": 16,
      "outputs": [
        {
          "output_type": "stream",
          "name": "stdout",
          "text": [
            "[Person] Initialized: Alice\n",
            "[Intern] Initialized!\n",
            "[Employee] Working...\n",
            "[Student] Studying...\n",
            "[Intern] Alice is interning!\n"
          ]
        }
      ]
    },
    {
      "cell_type": "code",
      "source": [
        "class Account:\n",
        "    def __init__(self, id):\n",
        "        self.id = id\n",
        "        print(f\"[Account] ID: {self.id}\")\n",
        "\n",
        "# Parent Class 1\n",
        "class Buyer:\n",
        "    def buy(self):\n",
        "        print(\"[Buyer] Buying...\")\n",
        "\n",
        "# Parent Class 2\n",
        "class Seller:\n",
        "    def sell(self):\n",
        "        print(\"[Seller] Selling...\")\n",
        "\n",
        "# Derived Class (Hybrid)\n",
        "class MarketplaceUser(Account, Buyer, Seller):\n",
        "    def __init__(self, id):\n",
        "        Account.__init__(self, id)\n",
        "        print(\"[MarketplaceUser] Initialized!\")\n",
        "\n",
        "    def is_active(self):\n",
        "        print(f\"[MarketplaceUser] User {self.id} is active!\")\n",
        "\n",
        "# Object creation and method calls\n",
        "user = MarketplaceUser(101)\n",
        "user.buy()\n",
        "user.sell()\n",
        "user.is_active()"
      ],
      "metadata": {
        "colab": {
          "base_uri": "https://localhost:8080/"
        },
        "id": "_bkdHnyhtid_",
        "outputId": "6f877549-2103-49be-cc29-e288c294dcb4"
      },
      "execution_count": 17,
      "outputs": [
        {
          "output_type": "stream",
          "name": "stdout",
          "text": [
            "[Account] ID: 101\n",
            "[MarketplaceUser] Initialized!\n",
            "[Buyer] Buying...\n",
            "[Seller] Selling...\n",
            "[MarketplaceUser] User 101 is active!\n"
          ]
        }
      ]
    },
    {
      "cell_type": "code",
      "source": [
        "class Device:\n",
        "    def __init__(self, name):\n",
        "        self.name = name\n",
        "        print(f\"[Device] Name: {self.name}\")\n",
        "\n",
        "# Parent Class 1\n",
        "class Camera(Device):\n",
        "    def take_photo(self):\n",
        "        print(\"[Camera] Taking photo...\")\n",
        "\n",
        "# Parent Class 2\n",
        "class Phone(Device):\n",
        "    def make_call(self):\n",
        "        print(\"[Phone] Making call...\")\n",
        "\n",
        "# Derived Class (Hybrid)\n",
        "class Smartphone(Camera, Phone):\n",
        "    def __init__(self, name):\n",
        "        super().__init__(name)\n",
        "        print(\"[Smartphone] Ready!\")\n",
        "\n",
        "    def is_smart(self):\n",
        "        print(f\"[Smartphone] {self.name} is smart!\")\n",
        "\n",
        "# Object creation and method calls\n",
        "sp = Smartphone(\"Pixel\")\n",
        "sp.take_photo()\n",
        "sp.make_call()\n",
        "sp.is_smart()"
      ],
      "metadata": {
        "colab": {
          "base_uri": "https://localhost:8080/"
        },
        "id": "F6m8qleVtij4",
        "outputId": "db7f668c-03cc-47e7-f231-7e3a4a3b4092"
      },
      "execution_count": 22,
      "outputs": [
        {
          "output_type": "stream",
          "name": "stdout",
          "text": [
            "[Device] Name: Pixel\n",
            "[Smartphone] Ready!\n",
            "[Camera] Taking photo...\n",
            "[Phone] Making call...\n",
            "[Smartphone] Pixel is smart!\n"
          ]
        }
      ]
    },
    {
      "cell_type": "markdown",
      "source": [
        "Hierarchicalinheritance"
      ],
      "metadata": {
        "id": "rmGiG4pj95pa"
      }
    },
    {
      "cell_type": "code",
      "source": [
        "class Shape:\n",
        "    def __init__(self, name):\n",
        "        self.name = name\n",
        "        print(f\"[Shape] Initialized: {self.name}\")\n",
        "\n",
        "    def draw(self):\n",
        "        print(f\"[Shape] Drawing {self.name}\")\n",
        "\n",
        "# Derived Class 1\n",
        "class Circle(Shape):\n",
        "    def __init__(self, name, radius):\n",
        "        super().__init__(name)\n",
        "        self.radius = radius\n",
        "        print(f\"[Circle] Radius: {self.radius}\")\n",
        "\n",
        "    def area(self):\n",
        "        print(f\"[Circle] Area: {3.14 * self.radius * self.radius}\")\n",
        "\n",
        "# Derived Class 2\n",
        "class Square(Shape):\n",
        "    def __init__(self, name, side):\n",
        "        super().__init__(name)\n",
        "        self.side = side\n",
        "        print(f\"[Square] Side: {self.side}\")\n",
        "\n",
        "    def area(self):\n",
        "        print(f\"[Square] Area: {self.side * self.side}\")\n",
        "\n",
        "# Object creation and method calls\n",
        "c = Circle(\"Circle\", 5)\n",
        "s = Square(\"Square\", 4)\n",
        "c.draw()\n",
        "c.area()\n",
        "s.draw()\n",
        "s.area()"
      ],
      "metadata": {
        "colab": {
          "base_uri": "https://localhost:8080/"
        },
        "id": "3jne3p-Ntipd",
        "outputId": "6514f9a7-c58c-4476-e712-cf5bf269115f"
      },
      "execution_count": 23,
      "outputs": [
        {
          "output_type": "stream",
          "name": "stdout",
          "text": [
            "[Shape] Initialized: Circle\n",
            "[Circle] Radius: 5\n",
            "[Shape] Initialized: Square\n",
            "[Square] Side: 4\n",
            "[Shape] Drawing Circle\n",
            "[Circle] Area: 78.5\n",
            "[Shape] Drawing Square\n",
            "[Square] Area: 16\n"
          ]
        }
      ]
    },
    {
      "cell_type": "code",
      "source": [
        "\n",
        "class Employee:\n",
        "    def __init__(self, name):\n",
        "        self.name = name\n",
        "        print(f\"[Employee] Name: {self.name}\")\n",
        "\n",
        "    def work(self):\n",
        "        print(f\"[Employee] Working: {self.name}\")\n",
        "\n",
        "# Derived Class 1\n",
        "class Manager(Employee):\n",
        "    def __init__(self, name, department):\n",
        "        super().__init__(name)\n",
        "        self.department = department\n",
        "        print(f\"[Manager] Department: {self.department}\")\n",
        "\n",
        "    def manage(self):\n",
        "        print(f\"[Manager] Managing {self.department}\")\n",
        "\n",
        "# Derived Class 2\n",
        "class Developer(Employee):\n",
        "    def __init__(self, name, project):\n",
        "        super().__init__(name)\n",
        "        self.project = project\n",
        "        print(f\"[Developer] Project: {self.project}\")\n",
        "\n",
        "    def code(self):\n",
        "        print(f\"[Developer] Coding for {self.project}\")\n",
        "\n",
        "# Object creation and method calls\n",
        "mgr = Manager(\"Alice\", \"HR\")\n",
        "dev = Developer(\"Bob\", \"AI\")\n",
        "mgr.manage()\n",
        "mgr.work()\n",
        "dev.code()\n",
        "dev.work()"
      ],
      "metadata": {
        "colab": {
          "base_uri": "https://localhost:8080/"
        },
        "id": "OoB6284G2ici",
        "outputId": "ea4734fe-26d9-4ba7-b74b-3dd34d580481"
      },
      "execution_count": 24,
      "outputs": [
        {
          "output_type": "stream",
          "name": "stdout",
          "text": [
            "[Employee] Name: Alice\n",
            "[Manager] Department: HR\n",
            "[Employee] Name: Bob\n",
            "[Developer] Project: AI\n",
            "[Manager] Managing HR\n",
            "[Employee] Working: Alice\n",
            "[Developer] Coding for AI\n",
            "[Employee] Working: Bob\n"
          ]
        }
      ]
    },
    {
      "cell_type": "code",
      "source": [
        "class Vehicle:\n",
        "    def __init__(self, name):\n",
        "        self.name = name\n",
        "        print(f\"[Vehicle] Name: {self.name}\")\n",
        "\n",
        "    def move(self):\n",
        "        print(f\"[Vehicle] Moving: {self.name}\")\n",
        "\n",
        "class Bike(Vehicle):\n",
        "    def __init__(self, name, wheels):\n",
        "        super().__init__(name)\n",
        "        self.wheels = wheels\n",
        "        print(f\"[Bike] Wheels: {self.wheels}\")\n",
        "\n",
        "    def ride(self):\n",
        "        print(f\"[Bike] Riding with {self.wheels} wheels\")\n",
        "\n",
        "class Bus(Vehicle):\n",
        "    def __init__(self, name, seats):\n",
        "        super().__init__(name)\n",
        "        self.seats = seats\n",
        "        print(f\"[Bus] Carrying {self.seats} passengers\")\n",
        "\n",
        "    def carry(self):\n",
        "        print(f\"[Bus] Carrying {self.seats} passengers\")\n",
        "\n",
        "bike = Bike(\"MountainBike\", 2)\n",
        "bus = Bus(\"CityBus\", 40)\n",
        "bike.move()\n",
        "bike.ride()\n",
        "bus.move()\n",
        "bus.carry()"
      ],
      "metadata": {
        "colab": {
          "base_uri": "https://localhost:8080/"
        },
        "id": "GWJ99bX62jn1",
        "outputId": "95532b4a-111c-40b5-c4a6-53e2b4422189"
      },
      "execution_count": 27,
      "outputs": [
        {
          "output_type": "stream",
          "name": "stdout",
          "text": [
            "[Vehicle] Name: MountainBike\n",
            "[Bike] Wheels: 2\n",
            "[Vehicle] Name: CityBus\n",
            "[Bus] Carrying 40 passengers\n",
            "[Vehicle] Moving: MountainBike\n",
            "[Bike] Riding with 2 wheels\n",
            "[Vehicle] Moving: CityBus\n",
            "[Bus] Carrying 40 passengers\n"
          ]
        }
      ]
    },
    {
      "cell_type": "code",
      "source": [],
      "metadata": {
        "id": "CVQHvjNC2jk2"
      },
      "execution_count": null,
      "outputs": []
    },
    {
      "cell_type": "code",
      "source": [],
      "metadata": {
        "id": "4U2cVagK2jiN"
      },
      "execution_count": null,
      "outputs": []
    },
    {
      "cell_type": "code",
      "source": [],
      "metadata": {
        "id": "IUxmIvGc2jfm"
      },
      "execution_count": null,
      "outputs": []
    },
    {
      "cell_type": "code",
      "source": [],
      "metadata": {
        "id": "QwW42ar_2jc1"
      },
      "execution_count": null,
      "outputs": []
    },
    {
      "cell_type": "code",
      "source": [],
      "metadata": {
        "id": "Koq0Q5bu2jZ_"
      },
      "execution_count": null,
      "outputs": []
    },
    {
      "cell_type": "code",
      "source": [],
      "metadata": {
        "id": "C3CeyRDE2jXM"
      },
      "execution_count": null,
      "outputs": []
    },
    {
      "cell_type": "code",
      "source": [],
      "metadata": {
        "id": "nAWiOoAO2jTu"
      },
      "execution_count": null,
      "outputs": []
    },
    {
      "cell_type": "code",
      "source": [],
      "metadata": {
        "id": "VQCQdCiF2jQm"
      },
      "execution_count": null,
      "outputs": []
    },
    {
      "cell_type": "code",
      "source": [],
      "metadata": {
        "id": "PFk8sckS2jNn"
      },
      "execution_count": null,
      "outputs": []
    },
    {
      "cell_type": "code",
      "source": [],
      "metadata": {
        "id": "CVOTRgnU2jKe"
      },
      "execution_count": null,
      "outputs": []
    }
  ]
}