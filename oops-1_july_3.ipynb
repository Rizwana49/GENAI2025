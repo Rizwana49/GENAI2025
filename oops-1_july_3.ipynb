{
  "nbformat": 4,
  "nbformat_minor": 0,
  "metadata": {
    "colab": {
      "provenance": []
    },
    "kernelspec": {
      "name": "python3",
      "display_name": "Python 3"
    },
    "language_info": {
      "name": "python"
    }
  },
  "cells": [
    {
      "cell_type": "code",
      "execution_count": null,
      "metadata": {
        "id": "4QZA0G2BaqY5"
      },
      "outputs": [],
      "source": []
    },
    {
      "cell_type": "code",
      "source": [
        "#TypeError: Marks.__init__() missing 1 required positional argument: 'attendance'\n",
        "\n",
        "class Marks:\n",
        "  def __init__(self,marks,attendance):\n",
        "    self.marks=marks\n",
        "    self.attendance=attendance\n",
        "  def marks_grade(self):\n",
        "    if self.marks<35:\n",
        "      return \"fail\"\n",
        "    elif self.marks<60:\n",
        "      return \"2nd class\"\n",
        "    elif self.marks<90:\n",
        "      return \"first class\"\n",
        "  def attendance_grade(self):\n",
        "    if self.attendance<100:\n",
        "      return \"fail\"\n",
        "    elif self.attendance<200:\n",
        "      return \"pass\"\n",
        "\n",
        "student1=Marks(60,100)\n",
        "student1.marks_grade()\n",
        "\n"
      ],
      "metadata": {
        "id": "KDiXIsNfayBV",
        "colab": {
          "base_uri": "https://localhost:8080/",
          "height": 36
        },
        "outputId": "75df52eb-c6b0-47c8-90ad-25c8c613a03c"
      },
      "execution_count": 3,
      "outputs": [
        {
          "output_type": "execute_result",
          "data": {
            "text/plain": [
              "'first class'"
            ],
            "application/vnd.google.colaboratory.intrinsic+json": {
              "type": "string"
            }
          },
          "metadata": {},
          "execution_count": 3
        }
      ]
    },
    {
      "cell_type": "code",
      "source": [
        "class Marks:\n",
        "  def __init__(self,marks,attendance):\n",
        "    self.marks=marks\n",
        "    self.attendance=attendance\n",
        "  def marks_grade(self):\n",
        "    if self.marks<35:\n",
        "      return \"fail\"\n",
        "    elif self.marks<60:\n",
        "      return \"2nd class\"\n",
        "    elif self.marks<90:\n",
        "      return \"first class\"\n",
        "  def attendance_grade(self):\n",
        "    if self.attendance<100:\n",
        "      return \"fail\"\n",
        "    elif self.attendance<200:\n",
        "      return \"pass\"\n",
        "\n",
        "student1=Marks(25,100)\n",
        "student1.marks_grade()\n",
        "\n"
      ],
      "metadata": {
        "colab": {
          "base_uri": "https://localhost:8080/",
          "height": 36
        },
        "id": "iuFjJutd4iNI",
        "outputId": "266c3995-4881-474c-fd38-d5125c01b57f"
      },
      "execution_count": 6,
      "outputs": [
        {
          "output_type": "execute_result",
          "data": {
            "text/plain": [
              "'fail'"
            ],
            "application/vnd.google.colaboratory.intrinsic+json": {
              "type": "string"
            }
          },
          "metadata": {},
          "execution_count": 6
        }
      ]
    },
    {
      "cell_type": "code",
      "source": [
        "class Marks:\n",
        "  def __init__(self,marks,attendance):\n",
        "    self.marks=marks\n",
        "    self.attendance=attendance\n",
        "  def marks_grade(self):\n",
        "    if self.marks<35:\n",
        "      return \"fail\"\n",
        "    elif self.marks<60:\n",
        "      return \"2nd class\"\n",
        "    elif self.marks<90:\n",
        "      return \"first class\"\n",
        "  def attendance_grade(self):\n",
        "    if self.attendance<100:\n",
        "      return \"not eligible\"\n",
        "    elif self.attendance<200:\n",
        "      return \"eligible\"\n",
        "\n",
        "student1=Marks(50,40)\n",
        "student1.marks_grade()\n",
        "\n"
      ],
      "metadata": {
        "colab": {
          "base_uri": "https://localhost:8080/",
          "height": 36
        },
        "id": "wzNMKUVz4iKe",
        "outputId": "53561534-c3d6-4096-bcd0-e99684fd2562"
      },
      "execution_count": 15,
      "outputs": [
        {
          "output_type": "execute_result",
          "data": {
            "text/plain": [
              "'2nd class'"
            ],
            "application/vnd.google.colaboratory.intrinsic+json": {
              "type": "string"
            }
          },
          "metadata": {},
          "execution_count": 15
        }
      ]
    },
    {
      "cell_type": "code",
      "source": [
        "class Name:\n",
        "  def greet(self):\n",
        "    return \"hello \"+self.name\n",
        "p1=Name()\n",
        "p1.name=\"Rizu\"\n",
        "p1.greet()"
      ],
      "metadata": {
        "id": "IMV3ko2gayOd",
        "colab": {
          "base_uri": "https://localhost:8080/",
          "height": 36
        },
        "outputId": "b5339bf1-d644-4454-e701-e993936ab5c0"
      },
      "execution_count": 1,
      "outputs": [
        {
          "output_type": "execute_result",
          "data": {
            "text/plain": [
              "'hello Rizu'"
            ],
            "application/vnd.google.colaboratory.intrinsic+json": {
              "type": "string"
            }
          },
          "metadata": {},
          "execution_count": 1
        }
      ]
    },
    {
      "cell_type": "code",
      "source": [
        "class Name1:\n",
        "  def __init__(self,name):\n",
        "    self.x=name\n",
        "  def greet(self):\n",
        "    return \"hello \"+self.x\n",
        "d1=Name()\n",
        "d1.name=\"Rizu\"\n",
        "d1.greet()\n"
      ],
      "metadata": {
        "id": "OLvPaZK1ayIF",
        "colab": {
          "base_uri": "https://localhost:8080/",
          "height": 36
        },
        "outputId": "c45f2b12-f836-4a06-df83-55ec1288fa14"
      },
      "execution_count": 2,
      "outputs": [
        {
          "output_type": "execute_result",
          "data": {
            "text/plain": [
              "'hello Rizu'"
            ],
            "application/vnd.google.colaboratory.intrinsic+json": {
              "type": "string"
            }
          },
          "metadata": {},
          "execution_count": 2
        }
      ]
    },
    {
      "cell_type": "code",
      "source": [
        "class Marks:\n",
        "  def __init__(self,marks,attendance):\n",
        "    self.marks=marks\n",
        "    self.attendance=attendance\n",
        "  def marks_grade(self):\n",
        "    if self.marks<35:\n",
        "      return \"fail\"\n",
        "    elif self.marks<60:\n",
        "      return \"3rd class\"\n",
        "    elif self.marks<90:\n",
        "      return \"first class\"\n",
        "  def attendance_grade(self):\n",
        "    if self.attendance<100:\n",
        "      return \"not eligible\"\n",
        "    elif self.attendance<200:\n",
        "      return \"eligible\"\n",
        "student1=Marks(70,60)\n",
        "student1.attendance_grade()"
      ],
      "metadata": {
        "id": "I_8gDSfS14bk",
        "colab": {
          "base_uri": "https://localhost:8080/",
          "height": 36
        },
        "outputId": "9b861dfb-ed2d-4d66-b851-923d14d8cd9b"
      },
      "execution_count": 17,
      "outputs": [
        {
          "output_type": "execute_result",
          "data": {
            "text/plain": [
              "'not eligible'"
            ],
            "application/vnd.google.colaboratory.intrinsic+json": {
              "type": "string"
            }
          },
          "metadata": {},
          "execution_count": 17
        }
      ]
    },
    {
      "cell_type": "code",
      "source": [
        "class Marks:\n",
        "  def __init__(self,marks,attendance):\n",
        "    self.marks=marks\n",
        "    self.attendance=attendance\n",
        "  def marks_grade(self):\n",
        "    if self.marks<35:\n",
        "      return \"fail\"\n",
        "    elif self.marks<60:\n",
        "      return \"3rd class\"\n",
        "    elif self.marks<90:\n",
        "      return \"first class\"\n",
        "  def attendance_grade(self):\n",
        "    if self.attendance<100:\n",
        "      return \"not eligible\"\n",
        "    elif self.attendance<200:\n",
        "      return \"eligible\"\n",
        "student1=Marks(70,100)\n",
        "student1.attendance_grade()"
      ],
      "metadata": {
        "colab": {
          "base_uri": "https://localhost:8080/",
          "height": 36
        },
        "id": "HGlvXCbc6u5m",
        "outputId": "c5e7b17f-e659-4249-af4f-0a0f1f5c771c"
      },
      "execution_count": 18,
      "outputs": [
        {
          "output_type": "execute_result",
          "data": {
            "text/plain": [
              "'eligible'"
            ],
            "application/vnd.google.colaboratory.intrinsic+json": {
              "type": "string"
            }
          },
          "metadata": {},
          "execution_count": 18
        }
      ]
    },
    {
      "cell_type": "code",
      "source": [
        "import math\n",
        "math.pi"
      ],
      "metadata": {
        "colab": {
          "base_uri": "https://localhost:8080/"
        },
        "id": "0t357ODTjLzV",
        "outputId": "99a4a7d4-d0f0-4d8a-bdf0-d18f4d6b424c"
      },
      "execution_count": null,
      "outputs": [
        {
          "output_type": "execute_result",
          "data": {
            "text/plain": [
              "3.141592653589793"
            ]
          },
          "metadata": {},
          "execution_count": 24
        }
      ]
    },
    {
      "cell_type": "code",
      "source": [
        "class CircleProperties:\n",
        "  def __init__(self,r):\n",
        "    self.r=r\n",
        "  def area(self):\n",
        "    return math.pi*self.r*self.r\n",
        "  def circ(self):\n",
        "    return math.pi*2*self.r"
      ],
      "metadata": {
        "id": "NgDDtusLax0U"
      },
      "execution_count": null,
      "outputs": []
    },
    {
      "cell_type": "code",
      "source": [
        "object1=CircleProperties(20)\n",
        "object1.area()"
      ],
      "metadata": {
        "colab": {
          "base_uri": "https://localhost:8080/"
        },
        "id": "RwhncLzIj5Lc",
        "outputId": "998b26fd-5688-499f-a316-cd7f91ccdf1d"
      },
      "execution_count": null,
      "outputs": [
        {
          "output_type": "execute_result",
          "data": {
            "text/plain": [
              "1256.6370614359173"
            ]
          },
          "metadata": {},
          "execution_count": 26
        }
      ]
    },
    {
      "cell_type": "code",
      "source": [
        "object1=CircleProperties(20)\n",
        "object1.circ()"
      ],
      "metadata": {
        "colab": {
          "base_uri": "https://localhost:8080/"
        },
        "id": "KNX28q0Fj5JU",
        "outputId": "dd59f69c-65c4-4ba0-ef6b-4afa84dd3bf9"
      },
      "execution_count": null,
      "outputs": [
        {
          "output_type": "execute_result",
          "data": {
            "text/plain": [
              "125.66370614359172"
            ]
          },
          "metadata": {},
          "execution_count": 27
        }
      ]
    },
    {
      "cell_type": "code",
      "source": [
        "object1=CircleProperties(20)\n",
        "object1.r"
      ],
      "metadata": {
        "colab": {
          "base_uri": "https://localhost:8080/"
        },
        "id": "tKJKdInhj5G7",
        "outputId": "627b6181-5fa9-46d4-de44-52b1d6a7a082"
      },
      "execution_count": null,
      "outputs": [
        {
          "output_type": "execute_result",
          "data": {
            "text/plain": [
              "20"
            ]
          },
          "metadata": {},
          "execution_count": 28
        }
      ]
    },
    {
      "cell_type": "code",
      "source": [
        "class Marks:\n",
        "  def __init__(self,marks,attendance):\n",
        "    self.marks=marks\n",
        "    self.attendance=attendance\n",
        "\n",
        "  def attendance_grade(self):\n",
        "    if self.attendance<100:\n",
        "      return \"fail\"\n",
        "    elif self.attendance<=200:\n",
        "      return \"pass\"\n",
        "\n",
        "\n"
      ],
      "metadata": {
        "id": "qgXoYPBFaxul"
      },
      "execution_count": null,
      "outputs": []
    },
    {
      "cell_type": "code",
      "source": [
        "\n",
        "student1=Marks(40,200)\n",
        "student1.attendance_grade()"
      ],
      "metadata": {
        "id": "_6YggdSKaxsM",
        "colab": {
          "base_uri": "https://localhost:8080/",
          "height": 35
        },
        "outputId": "6c4394aa-b2c6-4388-ee7b-9fae16decba3"
      },
      "execution_count": null,
      "outputs": [
        {
          "output_type": "execute_result",
          "data": {
            "text/plain": [
              "'pass'"
            ],
            "application/vnd.google.colaboratory.intrinsic+json": {
              "type": "string"
            }
          },
          "metadata": {},
          "execution_count": 49
        }
      ]
    },
    {
      "cell_type": "code",
      "source": [
        "student1=Marks(40,200)\n",
        "student1.marks"
      ],
      "metadata": {
        "id": "5rVvkL2GaxpE",
        "colab": {
          "base_uri": "https://localhost:8080/"
        },
        "outputId": "0d142bc5-256d-4b8d-f880-f966a38f062d"
      },
      "execution_count": null,
      "outputs": [
        {
          "output_type": "execute_result",
          "data": {
            "text/plain": [
              "40"
            ]
          },
          "metadata": {},
          "execution_count": 43
        }
      ]
    },
    {
      "cell_type": "code",
      "source": [
        "student1=Marks(40,200)\n",
        "student1.attendance"
      ],
      "metadata": {
        "colab": {
          "base_uri": "https://localhost:8080/"
        },
        "id": "dtxSoF2gy6Qg",
        "outputId": "7dbec158-5565-406e-d399-1685f4740000"
      },
      "execution_count": null,
      "outputs": [
        {
          "output_type": "execute_result",
          "data": {
            "text/plain": [
              "200"
            ]
          },
          "metadata": {},
          "execution_count": 44
        }
      ]
    },
    {
      "cell_type": "code",
      "source": [
        "class Rectangle:\n",
        "    def __init__(self, length, width):\n",
        "        self.length = length\n",
        "        self.width = width\n",
        "\n",
        "    def area(self):\n",
        "        return self.length * self.width\n",
        "\n",
        "    def perimeter(self):\n",
        "        return 2 * (self.length + self.width)\n",
        "\n",
        "    def display(self):\n",
        "        print(f\"{self.width} x {self.length}\")\n"
      ],
      "metadata": {
        "id": "p_KLUxAlaxmU"
      },
      "execution_count": 19,
      "outputs": []
    },
    {
      "cell_type": "code",
      "source": [
        "object1=Rectangle(10,20)\n",
        "object1.area()"
      ],
      "metadata": {
        "id": "rfg41TDIlk0X",
        "colab": {
          "base_uri": "https://localhost:8080/"
        },
        "outputId": "242ad44c-44f5-48fe-bd6a-bfde8308a520"
      },
      "execution_count": 20,
      "outputs": [
        {
          "output_type": "execute_result",
          "data": {
            "text/plain": [
              "200"
            ]
          },
          "metadata": {},
          "execution_count": 20
        }
      ]
    },
    {
      "cell_type": "code",
      "source": [],
      "metadata": {
        "colab": {
          "base_uri": "https://localhost:8080/"
        },
        "outputId": "8a2b28a9-2b3f-4c1f-c10b-71950d1568d0",
        "id": "lseTKr0s35gF"
      },
      "execution_count": null,
      "outputs": [
        {
          "output_type": "execute_result",
          "data": {
            "text/plain": [
              "5026.548245743669"
            ]
          },
          "metadata": {},
          "execution_count": 80
        }
      ]
    },
    {
      "cell_type": "code",
      "source": [
        "class Circle:\n",
        "    def __init__(self,radius):\n",
        "        self.radius = radius\n",
        "\n",
        "    def area(self):\n",
        "        return 3.14 * self.radius ** 2\n",
        "\n",
        "    def circumference(self):\n",
        "        return 2 * 3.14 * self.radius\n",
        "\n",
        "    def display(self):\n",
        "        print(\"Radius:\", self.radius)"
      ],
      "metadata": {
        "id": "h8ZwkE8SlkxT"
      },
      "execution_count": 27,
      "outputs": []
    },
    {
      "cell_type": "code",
      "source": [
        "object1=Circle(50)\n",
        "object1.circumference()"
      ],
      "metadata": {
        "id": "Y8eRwpcllku6",
        "colab": {
          "base_uri": "https://localhost:8080/"
        },
        "outputId": "0a5c8b61-8692-48d2-b315-cb1e99bab795"
      },
      "execution_count": 25,
      "outputs": [
        {
          "output_type": "execute_result",
          "data": {
            "text/plain": [
              "314.0"
            ]
          },
          "metadata": {},
          "execution_count": 25
        }
      ]
    },
    {
      "cell_type": "code",
      "source": [
        "object1=Circle(50)\n",
        "object1.area()"
      ],
      "metadata": {
        "colab": {
          "base_uri": "https://localhost:8080/"
        },
        "id": "XAPaIJRY866c",
        "outputId": "f385f295-e381-4f1a-b8f8-b245fe9596d8"
      },
      "execution_count": 28,
      "outputs": [
        {
          "output_type": "execute_result",
          "data": {
            "text/plain": [
              "7850.0"
            ]
          },
          "metadata": {},
          "execution_count": 28
        }
      ]
    },
    {
      "cell_type": "code",
      "source": [
        "class Student:\n",
        "    def __init__(self, name,marks):\n",
        "        self.name = name\n",
        "        self.marks = marks\n",
        "\n",
        "    def get_average(self):\n",
        "        return sum(self.marks) / len(self.marks)\n",
        "\n",
        "    def display(self):\n",
        "        print(f\"Name: {self.name}, Marks: {self.marks}\")\n"
      ],
      "metadata": {
        "id": "OyJ9nPIKlkr_"
      },
      "execution_count": 31,
      "outputs": []
    },
    {
      "cell_type": "code",
      "source": [
        "object1=Student(\"Rizu\",[50,60,90])\n",
        "object1.get_average()"
      ],
      "metadata": {
        "colab": {
          "base_uri": "https://localhost:8080/"
        },
        "id": "Yof478yW-Q44",
        "outputId": "109a0790-f969-4682-99c0-a3c90fb5f96a"
      },
      "execution_count": 32,
      "outputs": [
        {
          "output_type": "execute_result",
          "data": {
            "text/plain": [
              "66.66666666666667"
            ]
          },
          "metadata": {},
          "execution_count": 32
        }
      ]
    },
    {
      "cell_type": "code",
      "source": [
        "object1=Student(\"Rizu\",[50,60,90])\n",
        "object1.display()"
      ],
      "metadata": {
        "colab": {
          "base_uri": "https://localhost:8080/"
        },
        "id": "OAGWI9hC-Q1R",
        "outputId": "62506ffd-e9ee-45ec-b6b9-7eb3b6cfcad4"
      },
      "execution_count": 33,
      "outputs": [
        {
          "output_type": "stream",
          "name": "stdout",
          "text": [
            "Name: Rizu, Marks: [50, 60, 90]\n"
          ]
        }
      ]
    },
    {
      "cell_type": "code",
      "source": [
        "class Car:\n",
        "    def __init__(self, brand, speed):\n",
        "        self.brand = brand\n",
        "        self.speed = speed\n",
        "\n",
        "    def accelerate(self):\n",
        "        self.speed += 500\n",
        "\n",
        "    def display(self):\n",
        "        print(f\"{self.brand} speed: {self.speed} km/h\")\n"
      ],
      "metadata": {
        "id": "gc5xKwgFlkpd"
      },
      "execution_count": 38,
      "outputs": []
    },
    {
      "cell_type": "code",
      "source": [
        "object1=Car(\"Audi\", 300)\n",
        "object1.accelerate()\n",
        "object1.display()"
      ],
      "metadata": {
        "id": "UUgnG9WUlknE",
        "colab": {
          "base_uri": "https://localhost:8080/"
        },
        "outputId": "b818ba01-499b-4114-f19b-30ce9feb26bd"
      },
      "execution_count": 43,
      "outputs": [
        {
          "output_type": "stream",
          "name": "stdout",
          "text": [
            "Audi speed: 800 km/h\n"
          ]
        }
      ]
    },
    {
      "cell_type": "code",
      "source": [
        "class BankAccount:\n",
        "    def __init__(self, holder, balance):\n",
        "        self.holder = holder\n",
        "        self.balance = balance\n",
        "    def withdraw(self, amount):\n",
        "      self.balance =  self.balance - amount\n",
        "\n",
        "    def deposit(self, amount):\n",
        "        self.balance += amount\n",
        "\n",
        "    def display(self):\n",
        "        print(f\"{self.holder} Balance: {self.balance}\")\n"
      ],
      "metadata": {
        "id": "NTZC7sJ0lkkT"
      },
      "execution_count": 45,
      "outputs": []
    },
    {
      "cell_type": "code",
      "source": [
        "object1=BankAccount(\"Rizzu\",500000)\n",
        "object1.deposit(50000)\n",
        "object1.display()"
      ],
      "metadata": {
        "colab": {
          "base_uri": "https://localhost:8080/"
        },
        "id": "ISZs6dOMB8C1",
        "outputId": "04fc3603-43f3-444c-a6eb-c22deee2bc3d"
      },
      "execution_count": 49,
      "outputs": [
        {
          "output_type": "stream",
          "name": "stdout",
          "text": [
            "Rizzu Balance: 550000\n"
          ]
        }
      ]
    },
    {
      "cell_type": "code",
      "source": [
        "object1=BankAccount(\"Rizzu\",500000)\n",
        "object1.deposit(50000)\n",
        "object1.withdraw(50000)\n",
        "object1.display()"
      ],
      "metadata": {
        "colab": {
          "base_uri": "https://localhost:8080/"
        },
        "id": "1drZt2abB7-0",
        "outputId": "7588db22-3641-44ce-a8c7-ca91bced76c2"
      },
      "execution_count": 50,
      "outputs": [
        {
          "output_type": "stream",
          "name": "stdout",
          "text": [
            "Rizzu Balance: 500000\n"
          ]
        }
      ]
    },
    {
      "cell_type": "code",
      "source": [
        "class Book:\n",
        "    def __init__(self, title, author):\n",
        "        self.title = title\n",
        "        self.author = author\n",
        "\n",
        "    def display(self):\n",
        "        print(f\"{self.title} by {self.author}\")\n",
        "\n",
        "    def get_author(self):\n",
        "        return self.author\n",
        "    def get_title(self):\n",
        "        return self.title\n"
      ],
      "metadata": {
        "id": "1Gr09mKRlkhk"
      },
      "execution_count": 51,
      "outputs": []
    },
    {
      "cell_type": "code",
      "source": [
        "object1=Book(\"I dont love you anymore\",\"Rithvik singh\")\n",
        "object1.display()"
      ],
      "metadata": {
        "colab": {
          "base_uri": "https://localhost:8080/"
        },
        "id": "L1MM6axED9aE",
        "outputId": "9feafd86-27df-4d09-b548-7638a86bcac4"
      },
      "execution_count": 52,
      "outputs": [
        {
          "output_type": "stream",
          "name": "stdout",
          "text": [
            "I dont love you anymore by Rithvik singh\n"
          ]
        }
      ]
    },
    {
      "cell_type": "code",
      "source": [],
      "metadata": {
        "id": "YFzdDFfmD9M7"
      },
      "execution_count": null,
      "outputs": []
    },
    {
      "cell_type": "code",
      "source": [
        "class Temperature:\n",
        "    def __init__(self, celsius):\n",
        "        self.celsius = celsius\n",
        "\n",
        "    def to_fahrenheit(self):\n",
        "        return (self.celsius * 9/5) + 40\n",
        "\n",
        "    def display(self):\n",
        "        print(f\"{self.celsius}°C\")\n"
      ],
      "metadata": {
        "id": "AccSSIeWlke0"
      },
      "execution_count": 53,
      "outputs": []
    },
    {
      "cell_type": "code",
      "source": [
        "Temperature=Temperature(37)\n",
        "Temperature.to_fahrenheit()"
      ],
      "metadata": {
        "colab": {
          "base_uri": "https://localhost:8080/"
        },
        "id": "AmWjZ7qFFDyX",
        "outputId": "484b1442-f31a-4cac-ff61-0a1b9c3482d3"
      },
      "execution_count": 54,
      "outputs": [
        {
          "output_type": "execute_result",
          "data": {
            "text/plain": [
              "106.6"
            ]
          },
          "metadata": {},
          "execution_count": 54
        }
      ]
    },
    {
      "cell_type": "markdown",
      "source": [
        "# 🧱 Properties of Object-Oriented Programming (OOP)\n",
        "\n",
        "Object-Oriented Programming is based on four main principles:\n",
        "\n",
        "---\n",
        "\n",
        "## 🔹 1. Encapsulation\n",
        "- Encapsulation is the process of **bundling data and methods** that operate on that data into a single unit (class).\n",
        "- It helps **hide internal details** and restricts direct access to some components.\n",
        "- Promotes **data security**, **integrity**, and **modularity**.\n",
        "- Example concepts: private variables, getter/setter methods.\n",
        "\n",
        "---\n",
        "\n",
        "## 🔹 2. Abstraction\n",
        "- Abstraction means **hiding complex implementation details** and showing only the **essential features** to the user.\n",
        "- Allows the user to interact with the system without knowing internal logic.\n",
        "- Promotes **simplification** and **focus on behavior** rather than internal structure.\n",
        "\n",
        "---\n",
        "\n",
        "## 🔹 3. Inheritance\n",
        "- Inheritance is a mechanism where one class (child/subclass) **inherits the properties and behaviors** of another class (parent/superclass).\n",
        "- Promotes **code reusability** and **extensibility**.\n",
        "- Allows the creation of a hierarchical classification.\n",
        "\n",
        "---\n",
        "\n",
        "## 🔹 4. Polymorphism\n",
        "- Polymorphism means \"**many forms**\" — the ability of a method or object to behave differently based on context.\n",
        "- Allows the **same interface** to be used for different data types or classes.\n",
        "- Promotes **flexibility** and **interchangeability** in code.\n",
        "\n",
        "---\n"
      ],
      "metadata": {
        "id": "d3yJ4LG2mF7V"
      }
    },
    {
      "cell_type": "code",
      "source": [
        "\n",
        "class DataCleaner:\n",
        "    def remove_nulls(self):\n",
        "        print(\"Null values removed\")\n",
        "\n",
        "class SalesCleaner(DataCleaner):\n",
        "    def convert_dates(self):\n",
        "        print(\"Date columns converted\")"
      ],
      "metadata": {
        "id": "Z32avssyoFud"
      },
      "execution_count": 56,
      "outputs": []
    },
    {
      "cell_type": "code",
      "source": [
        "object1=SalesCleaner()\n",
        "object1.remove_nulls()\n",
        "object1.convert_dates()"
      ],
      "metadata": {
        "id": "42qjRD2NoFr4",
        "colab": {
          "base_uri": "https://localhost:8080/"
        },
        "outputId": "de5d6081-0744-4158-e321-a95300437567"
      },
      "execution_count": 58,
      "outputs": [
        {
          "output_type": "stream",
          "name": "stdout",
          "text": [
            "Null values removed\n",
            "Date columns converted\n"
          ]
        }
      ]
    },
    {
      "cell_type": "code",
      "source": [],
      "metadata": {
        "id": "ctZr2uIDoFow"
      },
      "execution_count": null,
      "outputs": []
    },
    {
      "cell_type": "code",
      "source": [
        "class Preprocessor:\n",
        "    def __init__(self):\n",
        "        print(\"Preprocessor initialized\")\n",
        "\n",
        "    def clean(self):\n",
        "        print(\"Cleaning base data\")\n",
        "\n",
        "class TextPreprocessor(Preprocessor):\n",
        "    def __init__(self):\n",
        "        #super().__init__()\n",
        "        print(\"TextPreprocessor initialized\")\n",
        "\n",
        "    def tokenize(self):\n",
        "        print(\"Text tokenized\")\n",
        "object1=TextPreprocessor()\n",
        "object1.clean()\n",
        "object1.tokenize()"
      ],
      "metadata": {
        "colab": {
          "base_uri": "https://localhost:8080/"
        },
        "id": "OiD_8yaGoFmc",
        "outputId": "c80780f3-d3f0-44b1-b3b7-b865dc1963a0"
      },
      "execution_count": 60,
      "outputs": [
        {
          "output_type": "stream",
          "name": "stdout",
          "text": [
            "TextPreprocessor initialized\n",
            "Cleaning base data\n",
            "Text tokenized\n"
          ]
        }
      ]
    },
    {
      "cell_type": "code",
      "source": [
        "class Model:\n",
        "    def __init__(self):\n",
        "        print(\"Base Model initialized\")\n",
        "\n",
        "    def train(self):\n",
        "        print(\"Training model...\")\n",
        "\n",
        "class LinearRegressionModel(Model):\n",
        "    def __init__(self):\n",
        "        super().__init__()\n",
        "        print(\"LinearRegressionModel ready\")\n",
        "\n",
        "    def predict(self):\n",
        "        print(\"Predicting using linear regression\")\n",
        "\n",
        "# Usage\n",
        "model = LinearRegressionModel()\n",
        "model.train()\n",
        "model.predict()\n"
      ],
      "metadata": {
        "colab": {
          "base_uri": "https://localhost:8080/"
        },
        "id": "1g2V9wbFm4pP",
        "outputId": "4dd24192-0588-4b01-a1e7-abd9124d139e"
      },
      "execution_count": null,
      "outputs": [
        {
          "output_type": "stream",
          "name": "stdout",
          "text": [
            "Base Model initialized\n",
            "LinearRegressionModel ready\n",
            "Training model...\n",
            "Predicting using linear regression\n"
          ]
        }
      ]
    },
    {
      "cell_type": "code",
      "source": [
        "class Dataset:\n",
        "    def __init__(self):\n",
        "        print(\"Dataset initialized\")\n",
        "\n",
        "    def load(self):\n",
        "        print(\"Loading dataset...\")\n",
        "\n",
        "class CSVData(Dataset):\n",
        "    def __init__(self):\n",
        "        super().__init__()\n",
        "        print(\"CSVData initialized\")\n",
        "\n",
        "    def read_csv(self):\n",
        "        print(\"Reading CSV file\")\n",
        "\n",
        "class CleanedCSVData(CSVData):\n",
        "    def __init__(self):\n",
        "        super().__init__()\n",
        "        print(\"CleanedCSVData initialized\")\n",
        "\n",
        "    def clean(self):\n",
        "        print(\"Cleaning missing values\")\n",
        "\n",
        "object1=CleanedCSVData()\n",
        "object1.load()\n",
        "object1.read_csv()\n",
        "object1.clean()"
      ],
      "metadata": {
        "colab": {
          "base_uri": "https://localhost:8080/"
        },
        "id": "0e_4qTavm4kQ",
        "outputId": "e62efe1e-7e36-44e1-afc9-b49dbf356286"
      },
      "execution_count": 61,
      "outputs": [
        {
          "output_type": "stream",
          "name": "stdout",
          "text": [
            "Dataset initialized\n",
            "CSVData initialized\n",
            "CleanedCSVData initialized\n",
            "Loading dataset...\n",
            "Reading CSV file\n",
            "Cleaning missing values\n"
          ]
        }
      ]
    }
  ]
}
