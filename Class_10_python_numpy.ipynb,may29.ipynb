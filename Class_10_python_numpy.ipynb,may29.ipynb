{
  "cells": [
    {
      "cell_type": "code",
      "source": [
        "import numpy as np"
      ],
      "metadata": {
        "id": "doQGGUVhemOy"
      },
      "execution_count": 1,
      "outputs": []
    },
    {
      "cell_type": "code",
      "source": [
        "data=np.random.randint(0,20,(5,5))"
      ],
      "metadata": {
        "id": "DqOIZnOvemL6"
      },
      "execution_count": 2,
      "outputs": []
    },
    {
      "cell_type": "code",
      "source": [
        "data"
      ],
      "metadata": {
        "id": "tsY0WaziemKS",
        "colab": {
          "base_uri": "https://localhost:8080/"
        },
        "outputId": "0197f82c-29fe-4e00-c7ac-90dfb2a5f0cf"
      },
      "execution_count": 3,
      "outputs": [
        {
          "output_type": "execute_result",
          "data": {
            "text/plain": [
              "array([[12,  0, 18, 12,  9],\n",
              "       [17, 15, 19, 11,  3],\n",
              "       [ 8, 15,  7, 12, 19],\n",
              "       [ 0,  4,  5,  1,  6],\n",
              "       [17,  2,  4,  9, 11]])"
            ]
          },
          "metadata": {},
          "execution_count": 3
        }
      ]
    },
    {
      "cell_type": "code",
      "source": [
        "data.sum()"
      ],
      "metadata": {
        "id": "ILw1xermemHu",
        "colab": {
          "base_uri": "https://localhost:8080/"
        },
        "outputId": "b6933821-37c5-4c4d-c901-64c21cec4f07"
      },
      "execution_count": 4,
      "outputs": [
        {
          "output_type": "execute_result",
          "data": {
            "text/plain": [
              "np.int64(236)"
            ]
          },
          "metadata": {},
          "execution_count": 4
        }
      ]
    },
    {
      "cell_type": "code",
      "source": [
        "data.sum(axis=1)"
      ],
      "metadata": {
        "id": "n0VGYNaJesNT",
        "colab": {
          "base_uri": "https://localhost:8080/"
        },
        "outputId": "e7c9d28b-da01-4837-8290-6e6011ba0236"
      },
      "execution_count": 5,
      "outputs": [
        {
          "output_type": "execute_result",
          "data": {
            "text/plain": [
              "array([51, 65, 61, 16, 43])"
            ]
          },
          "metadata": {},
          "execution_count": 5
        }
      ]
    },
    {
      "cell_type": "code",
      "source": [
        "data.sum(axis=0)"
      ],
      "metadata": {
        "id": "9_fg960CesJv",
        "colab": {
          "base_uri": "https://localhost:8080/"
        },
        "outputId": "621aae5a-8301-41d3-cc57-eb68077b3332"
      },
      "execution_count": 6,
      "outputs": [
        {
          "output_type": "execute_result",
          "data": {
            "text/plain": [
              "array([54, 36, 53, 45, 48])"
            ]
          },
          "metadata": {},
          "execution_count": 6
        }
      ]
    },
    {
      "cell_type": "code",
      "source": [
        "data.max()"
      ],
      "metadata": {
        "id": "0r0g1J2iesAE",
        "colab": {
          "base_uri": "https://localhost:8080/"
        },
        "outputId": "fa72086e-0b0c-4983-c335-cf4d16c6f329"
      },
      "execution_count": 7,
      "outputs": [
        {
          "output_type": "execute_result",
          "data": {
            "text/plain": [
              "np.int64(19)"
            ]
          },
          "metadata": {},
          "execution_count": 7
        }
      ]
    },
    {
      "cell_type": "code",
      "source": [
        "data.min()"
      ],
      "metadata": {
        "id": "X6rfa0lber8m",
        "colab": {
          "base_uri": "https://localhost:8080/"
        },
        "outputId": "f0a26435-04ac-4871-a005-817dca297e27"
      },
      "execution_count": 8,
      "outputs": [
        {
          "output_type": "execute_result",
          "data": {
            "text/plain": [
              "np.int64(0)"
            ]
          },
          "metadata": {},
          "execution_count": 8
        }
      ]
    },
    {
      "cell_type": "code",
      "source": [
        "data.max(axis=1)"
      ],
      "metadata": {
        "id": "-MTHoq2der5j",
        "colab": {
          "base_uri": "https://localhost:8080/"
        },
        "outputId": "f5986ec0-b4c8-4f85-cead-31c1735cc24a"
      },
      "execution_count": 9,
      "outputs": [
        {
          "output_type": "execute_result",
          "data": {
            "text/plain": [
              "array([18, 19, 19,  6, 17])"
            ]
          },
          "metadata": {},
          "execution_count": 9
        }
      ]
    },
    {
      "cell_type": "code",
      "source": [
        "data.min(axis=0)"
      ],
      "metadata": {
        "id": "_TfPKfXperr-",
        "colab": {
          "base_uri": "https://localhost:8080/"
        },
        "outputId": "26a55dd7-b801-4057-db5c-77ca4cd05d15"
      },
      "execution_count": 10,
      "outputs": [
        {
          "output_type": "execute_result",
          "data": {
            "text/plain": [
              "array([0, 0, 4, 1, 3])"
            ]
          },
          "metadata": {},
          "execution_count": 10
        }
      ]
    },
    {
      "cell_type": "code",
      "source": [
        "data.max(axis=0)"
      ],
      "metadata": {
        "id": "gO0Gdchnerop",
        "colab": {
          "base_uri": "https://localhost:8080/"
        },
        "outputId": "472beb5d-444c-41a0-9d96-9543271fc7e2"
      },
      "execution_count": 11,
      "outputs": [
        {
          "output_type": "execute_result",
          "data": {
            "text/plain": [
              "array([17, 15, 19, 12, 19])"
            ]
          },
          "metadata": {},
          "execution_count": 11
        }
      ]
    },
    {
      "cell_type": "code",
      "source": [
        "data.min(axis=1)"
      ],
      "metadata": {
        "id": "TmqGl0y1erlW",
        "colab": {
          "base_uri": "https://localhost:8080/"
        },
        "outputId": "94b87eeb-b08f-4f3e-b644-cc3605b55c39"
      },
      "execution_count": 12,
      "outputs": [
        {
          "output_type": "execute_result",
          "data": {
            "text/plain": [
              "array([0, 3, 7, 0, 2])"
            ]
          },
          "metadata": {},
          "execution_count": 12
        }
      ]
    },
    {
      "cell_type": "code",
      "source": [
        "data.argmax(axis=1)"
      ],
      "metadata": {
        "id": "qUy5Df8beptE",
        "colab": {
          "base_uri": "https://localhost:8080/"
        },
        "outputId": "f0d49db2-9bac-4071-d49c-95c405810956"
      },
      "execution_count": 13,
      "outputs": [
        {
          "output_type": "execute_result",
          "data": {
            "text/plain": [
              "array([2, 2, 4, 4, 0])"
            ]
          },
          "metadata": {},
          "execution_count": 13
        }
      ]
    },
    {
      "cell_type": "code",
      "source": [
        "data.argmin(axis=1)"
      ],
      "metadata": {
        "id": "0RuX2QuXepma",
        "colab": {
          "base_uri": "https://localhost:8080/"
        },
        "outputId": "75aa9d91-be27-4b66-da74-d4ebec7aa261"
      },
      "execution_count": 14,
      "outputs": [
        {
          "output_type": "execute_result",
          "data": {
            "text/plain": [
              "array([1, 4, 2, 0, 1])"
            ]
          },
          "metadata": {},
          "execution_count": 14
        }
      ]
    },
    {
      "cell_type": "code",
      "source": [
        "data.argmax(axis=0)"
      ],
      "metadata": {
        "id": "Z9m3sEvuepi_",
        "colab": {
          "base_uri": "https://localhost:8080/"
        },
        "outputId": "84e6b094-d75c-4342-d75d-35dae2efabc4"
      },
      "execution_count": 15,
      "outputs": [
        {
          "output_type": "execute_result",
          "data": {
            "text/plain": [
              "array([1, 1, 1, 0, 2])"
            ]
          },
          "metadata": {},
          "execution_count": 15
        }
      ]
    },
    {
      "cell_type": "code",
      "source": [
        "data.argmin(axis=0)"
      ],
      "metadata": {
        "id": "OUl3H-d1epdc",
        "colab": {
          "base_uri": "https://localhost:8080/"
        },
        "outputId": "5624c8f3-c374-4ad4-b99b-16a5eb2dfebb"
      },
      "execution_count": 16,
      "outputs": [
        {
          "output_type": "execute_result",
          "data": {
            "text/plain": [
              "array([3, 0, 4, 3, 1])"
            ]
          },
          "metadata": {},
          "execution_count": 16
        }
      ]
    },
    {
      "cell_type": "code",
      "source": [
        "data=np.random.randint(10,50,(3,5))"
      ],
      "metadata": {
        "id": "gqq80Uiaepbe"
      },
      "execution_count": 59,
      "outputs": []
    },
    {
      "cell_type": "code",
      "source": [
        "data"
      ],
      "metadata": {
        "id": "RhczRJ-7epXg",
        "colab": {
          "base_uri": "https://localhost:8080/"
        },
        "outputId": "224e179a-d9b8-4237-f860-fb0bbae391d1"
      },
      "execution_count": 61,
      "outputs": [
        {
          "output_type": "execute_result",
          "data": {
            "text/plain": [
              "array([[26, 34, 18, 16, 25],\n",
              "       [28, 38, 41, 42, 40],\n",
              "       [42, 33, 11, 29, 24]])"
            ]
          },
          "metadata": {},
          "execution_count": 61
        }
      ]
    },
    {
      "cell_type": "code",
      "source": [
        "data.sum()"
      ],
      "metadata": {
        "id": "UDC4dsAXepVh",
        "colab": {
          "base_uri": "https://localhost:8080/"
        },
        "outputId": "0494e847-a094-49a3-b742-33f32e25cf6e"
      },
      "execution_count": 62,
      "outputs": [
        {
          "output_type": "execute_result",
          "data": {
            "text/plain": [
              "np.int64(447)"
            ]
          },
          "metadata": {},
          "execution_count": 62
        }
      ]
    },
    {
      "cell_type": "code",
      "source": [
        "data.max(axis=1)"
      ],
      "metadata": {
        "id": "57PxKZvtepTX",
        "colab": {
          "base_uri": "https://localhost:8080/"
        },
        "outputId": "54a9fe96-e590-4c6a-af0a-7c7daaddf447"
      },
      "execution_count": 63,
      "outputs": [
        {
          "output_type": "execute_result",
          "data": {
            "text/plain": [
              "array([34, 42, 42])"
            ]
          },
          "metadata": {},
          "execution_count": 63
        }
      ]
    },
    {
      "cell_type": "code",
      "source": [
        "data.min(axis=1)"
      ],
      "metadata": {
        "id": "4R25UkaEeo8p",
        "colab": {
          "base_uri": "https://localhost:8080/"
        },
        "outputId": "21041b30-0a62-4487-c868-96e4b55e02a1"
      },
      "execution_count": 66,
      "outputs": [
        {
          "output_type": "execute_result",
          "data": {
            "text/plain": [
              "array([16, 28, 11])"
            ]
          },
          "metadata": {},
          "execution_count": 66
        }
      ]
    },
    {
      "cell_type": "code",
      "source": [
        "data.sum(axis=1)"
      ],
      "metadata": {
        "colab": {
          "base_uri": "https://localhost:8080/"
        },
        "id": "qzfX6ZLeoFFy",
        "outputId": "d3635e36-0e23-460d-a7e8-c256512ec0bf"
      },
      "execution_count": 65,
      "outputs": [
        {
          "output_type": "execute_result",
          "data": {
            "text/plain": [
              "array([119, 189, 139])"
            ]
          },
          "metadata": {},
          "execution_count": 65
        }
      ]
    },
    {
      "cell_type": "code",
      "source": [
        "data.sum(axis=1).argmax()+1"
      ],
      "metadata": {
        "id": "tt2ptJSHeo7G",
        "colab": {
          "base_uri": "https://localhost:8080/"
        },
        "outputId": "22c36fac-ffb9-461a-8cfa-461b390c2acd"
      },
      "execution_count": 67,
      "outputs": [
        {
          "output_type": "execute_result",
          "data": {
            "text/plain": [
              "np.int64(2)"
            ]
          },
          "metadata": {},
          "execution_count": 67
        }
      ]
    },
    {
      "cell_type": "code",
      "source": [
        "data.sum(axis=1).argmin()+1"
      ],
      "metadata": {
        "id": "bb5FRDzleo5K",
        "colab": {
          "base_uri": "https://localhost:8080/"
        },
        "outputId": "907c8fb8-2f73-41ca-9106-1e9ec5266d40"
      },
      "execution_count": 68,
      "outputs": [
        {
          "output_type": "execute_result",
          "data": {
            "text/plain": [
              "np.int64(1)"
            ]
          },
          "metadata": {},
          "execution_count": 68
        }
      ]
    },
    {
      "cell_type": "code",
      "source": [
        "data.sum(axis=0)"
      ],
      "metadata": {
        "colab": {
          "base_uri": "https://localhost:8080/"
        },
        "id": "dqPu-XIXoQrA",
        "outputId": "13af1bd4-753b-4f94-d616-7c7677c295b4"
      },
      "execution_count": 69,
      "outputs": [
        {
          "output_type": "execute_result",
          "data": {
            "text/plain": [
              "array([ 96, 105,  70,  87,  89])"
            ]
          },
          "metadata": {},
          "execution_count": 69
        }
      ]
    },
    {
      "cell_type": "code",
      "source": [
        "data.sum(axis=0).argmax()+1"
      ],
      "metadata": {
        "id": "hc6uu4q4eo2u",
        "colab": {
          "base_uri": "https://localhost:8080/"
        },
        "outputId": "f00e38c0-a9fc-4c33-afa6-ce114e4ebaa1"
      },
      "execution_count": 70,
      "outputs": [
        {
          "output_type": "execute_result",
          "data": {
            "text/plain": [
              "np.int64(2)"
            ]
          },
          "metadata": {},
          "execution_count": 70
        }
      ]
    },
    {
      "cell_type": "code",
      "source": [
        "data.sum(axis=0).argmin()+1"
      ],
      "metadata": {
        "id": "-k--nGc8eo0e",
        "colab": {
          "base_uri": "https://localhost:8080/"
        },
        "outputId": "a766a848-9054-4c80-e0e0-2ee03a35ab66"
      },
      "execution_count": 71,
      "outputs": [
        {
          "output_type": "execute_result",
          "data": {
            "text/plain": [
              "np.int64(3)"
            ]
          },
          "metadata": {},
          "execution_count": 71
        }
      ]
    },
    {
      "cell_type": "code",
      "source": [
        "data.sum(axis=0)[3:].sum()"
      ],
      "metadata": {
        "colab": {
          "base_uri": "https://localhost:8080/"
        },
        "id": "mB1ipBIjooso",
        "outputId": "172d56e0-c9d2-4b5d-b1c7-059752bd1233"
      },
      "execution_count": 75,
      "outputs": [
        {
          "output_type": "execute_result",
          "data": {
            "text/plain": [
              "np.int64(176)"
            ]
          },
          "metadata": {},
          "execution_count": 75
        }
      ]
    },
    {
      "cell_type": "code",
      "source": [
        "data[:,3:5].sum()"
      ],
      "metadata": {
        "colab": {
          "base_uri": "https://localhost:8080/"
        },
        "id": "CS-gOO8Nowi5",
        "outputId": "17aee5ee-76db-4b0a-92c2-9840af8fc16c"
      },
      "execution_count": 76,
      "outputs": [
        {
          "output_type": "execute_result",
          "data": {
            "text/plain": [
              "np.int64(176)"
            ]
          },
          "metadata": {},
          "execution_count": 76
        }
      ]
    },
    {
      "cell_type": "code",
      "source": [
        "data"
      ],
      "metadata": {
        "id": "J2l2nZYZeoxL",
        "colab": {
          "base_uri": "https://localhost:8080/"
        },
        "outputId": "9e3c873f-e542-4e4d-f775-6c25eb6ce779"
      },
      "execution_count": 77,
      "outputs": [
        {
          "output_type": "execute_result",
          "data": {
            "text/plain": [
              "array([[26, 34, 18, 16, 25],\n",
              "       [28, 38, 41, 42, 40],\n",
              "       [42, 33, 11, 29, 24]])"
            ]
          },
          "metadata": {},
          "execution_count": 77
        }
      ]
    },
    {
      "cell_type": "code",
      "source": [
        "data.sum(axis=0).max()"
      ],
      "metadata": {
        "id": "GzNzhBr8eovK",
        "colab": {
          "base_uri": "https://localhost:8080/"
        },
        "outputId": "6a382552-8ed9-410f-956e-0f75db71ca6e"
      },
      "execution_count": 78,
      "outputs": [
        {
          "output_type": "execute_result",
          "data": {
            "text/plain": [
              "np.int64(105)"
            ]
          },
          "metadata": {},
          "execution_count": 78
        }
      ]
    },
    {
      "cell_type": "code",
      "source": [
        "data.sum(axis=0).min()"
      ],
      "metadata": {
        "id": "i0KgIqWzeooh",
        "colab": {
          "base_uri": "https://localhost:8080/"
        },
        "outputId": "040171e4-3c26-46f6-8243-450535344fee"
      },
      "execution_count": 79,
      "outputs": [
        {
          "output_type": "execute_result",
          "data": {
            "text/plain": [
              "np.int64(70)"
            ]
          },
          "metadata": {},
          "execution_count": 79
        }
      ]
    },
    {
      "cell_type": "code",
      "source": [
        "data.sum(axis=0).max()-data.sum(axis=0).min()"
      ],
      "metadata": {
        "id": "gIDqq3Ileol6",
        "colab": {
          "base_uri": "https://localhost:8080/"
        },
        "outputId": "e7068e9c-010f-428f-e2e3-dc539cc83eb5"
      },
      "execution_count": 80,
      "outputs": [
        {
          "output_type": "execute_result",
          "data": {
            "text/plain": [
              "np.int64(35)"
            ]
          },
          "metadata": {},
          "execution_count": 80
        }
      ]
    },
    {
      "cell_type": "code",
      "source": [
        "data=np.random.randint(0,20,10)"
      ],
      "metadata": {
        "id": "8jyWi3dueoiu"
      },
      "execution_count": 83,
      "outputs": []
    },
    {
      "cell_type": "code",
      "source": [
        "data"
      ],
      "metadata": {
        "id": "iuuvkGc9eog3",
        "colab": {
          "base_uri": "https://localhost:8080/"
        },
        "outputId": "d8a8484a-a0de-4d97-b50f-c097c9fdffaf"
      },
      "execution_count": 84,
      "outputs": [
        {
          "output_type": "execute_result",
          "data": {
            "text/plain": [
              "array([ 1,  9,  5,  9,  1,  8,  9,  4, 13,  4])"
            ]
          },
          "metadata": {},
          "execution_count": 84
        }
      ]
    },
    {
      "cell_type": "code",
      "source": [
        "data.mean()"
      ],
      "metadata": {
        "id": "ufA-TLRceoa3",
        "colab": {
          "base_uri": "https://localhost:8080/"
        },
        "outputId": "deda5fd0-cbca-40ac-9fcf-247fce7261a5"
      },
      "execution_count": 86,
      "outputs": [
        {
          "output_type": "execute_result",
          "data": {
            "text/plain": [
              "np.float64(6.3)"
            ]
          },
          "metadata": {},
          "execution_count": 86
        }
      ]
    },
    {
      "cell_type": "code",
      "source": [
        "np.median(data)"
      ],
      "metadata": {
        "id": "7Vts1ezpeoXW",
        "colab": {
          "base_uri": "https://localhost:8080/"
        },
        "outputId": "bc07b269-8cd5-4e5d-b014-8b1c9ef87811"
      },
      "execution_count": 89,
      "outputs": [
        {
          "output_type": "execute_result",
          "data": {
            "text/plain": [
              "np.float64(6.5)"
            ]
          },
          "metadata": {},
          "execution_count": 89
        }
      ]
    },
    {
      "cell_type": "code",
      "source": [
        "np.quantile(data,0.25)"
      ],
      "metadata": {
        "id": "HzYsyZYXeoUR",
        "colab": {
          "base_uri": "https://localhost:8080/"
        },
        "outputId": "b2b679bb-a418-46b3-edf5-67d3c28a5baa"
      },
      "execution_count": 90,
      "outputs": [
        {
          "output_type": "execute_result",
          "data": {
            "text/plain": [
              "np.float64(4.0)"
            ]
          },
          "metadata": {},
          "execution_count": 90
        }
      ]
    },
    {
      "cell_type": "code",
      "source": [
        "np.quantile(data,0.75)"
      ],
      "metadata": {
        "id": "DXDcT1V8eoRc",
        "colab": {
          "base_uri": "https://localhost:8080/"
        },
        "outputId": "617a414f-224e-42e0-c66d-5f7247f34ea6"
      },
      "execution_count": 91,
      "outputs": [
        {
          "output_type": "execute_result",
          "data": {
            "text/plain": [
              "np.float64(9.0)"
            ]
          },
          "metadata": {},
          "execution_count": 91
        }
      ]
    },
    {
      "cell_type": "code",
      "source": [
        "np.quantile(data,0.50)\n"
      ],
      "metadata": {
        "id": "BRZl810zeoOT",
        "colab": {
          "base_uri": "https://localhost:8080/"
        },
        "outputId": "5fabc8aa-d693-40ff-ee8f-9b57a1041548"
      },
      "execution_count": 92,
      "outputs": [
        {
          "output_type": "execute_result",
          "data": {
            "text/plain": [
              "np.float64(6.5)"
            ]
          },
          "metadata": {},
          "execution_count": 92
        }
      ]
    },
    {
      "cell_type": "code",
      "source": [
        "np.std(data)"
      ],
      "metadata": {
        "id": "XI95awaZeoLT",
        "colab": {
          "base_uri": "https://localhost:8080/"
        },
        "outputId": "c4bd09e5-cef5-4323-9b11-a0c807eb3e34"
      },
      "execution_count": 93,
      "outputs": [
        {
          "output_type": "execute_result",
          "data": {
            "text/plain": [
              "np.float64(3.716180835212409)"
            ]
          },
          "metadata": {},
          "execution_count": 93
        }
      ]
    },
    {
      "cell_type": "code",
      "source": [
        "np.var(data)"
      ],
      "metadata": {
        "id": "_Z-O_O2yemFi",
        "colab": {
          "base_uri": "https://localhost:8080/"
        },
        "outputId": "62db27d4-38ee-4bfa-e904-c93c1413d787"
      },
      "execution_count": 94,
      "outputs": [
        {
          "output_type": "execute_result",
          "data": {
            "text/plain": [
              "np.float64(13.809999999999999)"
            ]
          },
          "metadata": {},
          "execution_count": 94
        }
      ]
    },
    {
      "cell_type": "code",
      "source": [
        "data=np.random.randint(0,10,(10,2))"
      ],
      "metadata": {
        "id": "TijnRY6wemEH"
      },
      "execution_count": 95,
      "outputs": []
    },
    {
      "cell_type": "code",
      "source": [
        "data"
      ],
      "metadata": {
        "id": "J-RkFkIwemBs",
        "colab": {
          "base_uri": "https://localhost:8080/"
        },
        "outputId": "78b2a10f-8d95-4921-c775-939fa4aa1831"
      },
      "execution_count": 96,
      "outputs": [
        {
          "output_type": "execute_result",
          "data": {
            "text/plain": [
              "array([[9, 1],\n",
              "       [1, 5],\n",
              "       [2, 2],\n",
              "       [9, 6],\n",
              "       [1, 9],\n",
              "       [9, 9],\n",
              "       [4, 6],\n",
              "       [9, 0],\n",
              "       [1, 1],\n",
              "       [7, 7]])"
            ]
          },
          "metadata": {},
          "execution_count": 96
        }
      ]
    },
    {
      "cell_type": "code",
      "source": [
        "np.corrcoef(data.T)"
      ],
      "metadata": {
        "id": "yFJU6Zlhel_T",
        "colab": {
          "base_uri": "https://localhost:8080/"
        },
        "outputId": "974e8576-5be9-4ee9-a370-1d1753409564"
      },
      "execution_count": 97,
      "outputs": [
        {
          "output_type": "execute_result",
          "data": {
            "text/plain": [
              "array([[ 1.        , -0.02821663],\n",
              "       [-0.02821663,  1.        ]])"
            ]
          },
          "metadata": {},
          "execution_count": 97
        }
      ]
    },
    {
      "cell_type": "code",
      "source": [
        "v1=np.arange(1,11)"
      ],
      "metadata": {
        "id": "Ez_oz-xdel9o"
      },
      "execution_count": 98,
      "outputs": []
    },
    {
      "cell_type": "code",
      "source": [
        "v2=np.arange(10,20)"
      ],
      "metadata": {
        "id": "wl95I5zUel8V"
      },
      "execution_count": 99,
      "outputs": []
    },
    {
      "cell_type": "code",
      "source": [
        "x=[10, 11, 12, 13, 14, 15, 16, 17, 18, 19]\n",
        "x.reverse()\n",
        "v2=np.array(x)\n",
        "v2"
      ],
      "metadata": {
        "id": "LNlnNFEiel6K",
        "colab": {
          "base_uri": "https://localhost:8080/"
        },
        "outputId": "65a863b0-c9b8-4b8e-facd-09b946acbc57"
      },
      "execution_count": 100,
      "outputs": [
        {
          "output_type": "execute_result",
          "data": {
            "text/plain": [
              "array([19, 18, 17, 16, 15, 14, 13, 12, 11, 10])"
            ]
          },
          "metadata": {},
          "execution_count": 100
        }
      ]
    },
    {
      "cell_type": "code",
      "source": [
        "\n",
        "data[:,0]=v1\n",
        "data[:,1]=v2"
      ],
      "metadata": {
        "id": "sv5XIekCel3b"
      },
      "execution_count": 102,
      "outputs": []
    },
    {
      "cell_type": "code",
      "source": [
        "np.corrcoef(data.T)"
      ],
      "metadata": {
        "id": "aDvjXUnpelyK",
        "colab": {
          "base_uri": "https://localhost:8080/"
        },
        "outputId": "38a9057e-87bc-4705-af27-8234478f37c8"
      },
      "execution_count": 103,
      "outputs": [
        {
          "output_type": "execute_result",
          "data": {
            "text/plain": [
              "array([[ 1., -1.],\n",
              "       [-1.,  1.]])"
            ]
          },
          "metadata": {},
          "execution_count": 103
        }
      ]
    },
    {
      "cell_type": "code",
      "source": [
        "### Descriptive Statistics\n",
        "mean\n",
        "median\n",
        "max\n",
        "min\n",
        "range\n",
        "q1\n",
        "q3\n",
        "iqr\n",
        "std\n",
        "var\n"
      ],
      "metadata": {
        "id": "nm3_HMfQelv6"
      },
      "execution_count": null,
      "outputs": []
    },
    {
      "cell_type": "code",
      "source": [],
      "metadata": {
        "id": "mu31JXYjelmi"
      },
      "execution_count": null,
      "outputs": []
    },
    {
      "cell_type": "code",
      "source": [],
      "metadata": {
        "id": "cpIfI1VXelj3"
      },
      "execution_count": null,
      "outputs": []
    },
    {
      "cell_type": "code",
      "source": [],
      "metadata": {
        "id": "RJqyfVsielgw"
      },
      "execution_count": null,
      "outputs": []
    },
    {
      "cell_type": "code",
      "source": [],
      "metadata": {
        "id": "pnF_om6YeleR"
      },
      "execution_count": null,
      "outputs": []
    },
    {
      "cell_type": "code",
      "source": [],
      "metadata": {
        "id": "hsgaIVrselbA"
      },
      "execution_count": null,
      "outputs": []
    },
    {
      "cell_type": "code",
      "source": [],
      "metadata": {
        "id": "siAezKXDelX-"
      },
      "execution_count": null,
      "outputs": []
    },
    {
      "cell_type": "code",
      "source": [],
      "metadata": {
        "id": "Ajwf9rNSelUw"
      },
      "execution_count": null,
      "outputs": []
    },
    {
      "cell_type": "code",
      "source": [],
      "metadata": {
        "id": "lktHcf2GelRv"
      },
      "execution_count": null,
      "outputs": []
    },
    {
      "cell_type": "code",
      "source": [],
      "metadata": {
        "id": "ijDK69mDelOz"
      },
      "execution_count": null,
      "outputs": []
    },
    {
      "cell_type": "code",
      "source": [],
      "metadata": {
        "id": "T5eIibaHelL9"
      },
      "execution_count": null,
      "outputs": []
    },
    {
      "cell_type": "code",
      "source": [],
      "metadata": {
        "id": "OIpzIxmPelJE"
      },
      "execution_count": null,
      "outputs": []
    },
    {
      "cell_type": "code",
      "source": [],
      "metadata": {
        "id": "RWGZDRhCelGO"
      },
      "execution_count": null,
      "outputs": []
    },
    {
      "cell_type": "code",
      "source": [],
      "metadata": {
        "id": "_C5NEIpselDO"
      },
      "execution_count": null,
      "outputs": []
    },
    {
      "cell_type": "code",
      "source": [],
      "metadata": {
        "id": "LvauB9xvelAK"
      },
      "execution_count": null,
      "outputs": []
    },
    {
      "cell_type": "code",
      "source": [],
      "metadata": {
        "id": "kybWeBx3ek9Q"
      },
      "execution_count": null,
      "outputs": []
    }
  ],
  "metadata": {
    "colab": {
      "toc_visible": true,
      "provenance": []
    },
    "kernelspec": {
      "display_name": "Python 3",
      "name": "python3"
    }
  },
  "nbformat": 4,
  "nbformat_minor": 0
}