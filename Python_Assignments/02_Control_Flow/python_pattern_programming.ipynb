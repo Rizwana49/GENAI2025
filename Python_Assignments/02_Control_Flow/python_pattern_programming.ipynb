{
  "cells": [
    {
      "cell_type": "code",
      "source": [
        "for i in range(2,8):\n",
        "    for j in range(2,i):\n",
        "\n",
        "        print(j, end=\" \")\n",
        "    print(\"\\n\")\n"
      ],
      "metadata": {
        "id": "IAl_ZhI4DR_Q",
        "outputId": "1f93e78a-4da0-40f1-fe98-b2b07b6efc0c",
        "colab": {
          "base_uri": "https://localhost:8080/"
        }
      },
      "execution_count": null,
      "outputs": [
        {
          "output_type": "stream",
          "name": "stdout",
          "text": [
            "\n",
            "\n",
            "2 \n",
            "\n",
            "2 3 \n",
            "\n",
            "2 3 4 \n",
            "\n",
            "2 3 4 5 \n",
            "\n",
            "2 3 4 5 6 \n",
            "\n"
          ]
        }
      ]
    },
    {
      "cell_type": "code",
      "source": [
        "\n",
        "for i in range(71, 75):\n",
        "    for j in range(71,i):\n",
        "        print(chr(j), end=\" \")\n",
        "    print(\"\\n\")\n"
      ],
      "metadata": {
        "id": "hq1en7rzDR5K",
        "outputId": "aa37d33c-e3fe-48f8-dd5a-44575fe337f1",
        "colab": {
          "base_uri": "https://localhost:8080/"
        }
      },
      "execution_count": null,
      "outputs": [
        {
          "output_type": "stream",
          "name": "stdout",
          "text": [
            "\n",
            "\n",
            "G \n",
            "\n",
            "G H \n",
            "\n",
            "G H I \n",
            "\n"
          ]
        }
      ]
    },
    {
      "cell_type": "code",
      "source": [
        "\n",
        "for i in range(1,5):\n",
        "    print(\"* \"*i, end=\"\\n\")"
      ],
      "metadata": {
        "id": "nw6TdLE2DRy2",
        "outputId": "6af621a9-5ece-4fd3-a15a-07320a856476",
        "colab": {
          "base_uri": "https://localhost:8080/"
        }
      },
      "execution_count": null,
      "outputs": [
        {
          "output_type": "stream",
          "name": "stdout",
          "text": [
            "* \n",
            "* * \n",
            "* * * \n",
            "* * * * \n"
          ]
        }
      ]
    },
    {
      "cell_type": "code",
      "source": [
        "for i in range(3,9):\n",
        "    for j in range(0,i):\n",
        "        print(i, end=\" \")\n",
        "    print(\"\\n\")"
      ],
      "metadata": {
        "id": "uOB_TRkHDRjt",
        "outputId": "535986b6-a1aa-4702-9831-d865a707fca7",
        "colab": {
          "base_uri": "https://localhost:8080/"
        }
      },
      "execution_count": 1,
      "outputs": [
        {
          "output_type": "stream",
          "name": "stdout",
          "text": [
            "3 3 3 \n",
            "\n",
            "4 4 4 4 \n",
            "\n",
            "5 5 5 5 5 \n",
            "\n",
            "6 6 6 6 6 6 \n",
            "\n",
            "7 7 7 7 7 7 7 \n",
            "\n",
            "8 8 8 8 8 8 8 8 \n",
            "\n"
          ]
        }
      ]
    },
    {
      "cell_type": "code",
      "source": [
        "\n",
        "x=1\n",
        "for i in range(66,73):\n",
        "  print(chr (i)*x, end=\"\\n\")\n",
        "  x=x+1"
      ],
      "metadata": {
        "id": "fzCES-YkDRdf",
        "outputId": "fc99d74c-2336-45cd-dbd1-1d61770c52f4",
        "colab": {
          "base_uri": "https://localhost:8080/"
        }
      },
      "execution_count": null,
      "outputs": [
        {
          "output_type": "stream",
          "name": "stdout",
          "text": [
            "B\n",
            "CC\n",
            "DDD\n",
            "EEEE\n",
            "FFFFF\n",
            "GGGGGG\n",
            "HHHHHHH\n"
          ]
        }
      ]
    },
    {
      "cell_type": "code",
      "source": [
        "x=1\n",
        "for i in range(5,0,-1):\n",
        "    print(\" \"*i,x*\"*\")\n",
        "    x=x+1"
      ],
      "metadata": {
        "id": "q_ykDHvMDRX5",
        "outputId": "76cabc7e-050f-461c-e454-ed7efa15eb13",
        "colab": {
          "base_uri": "https://localhost:8080/"
        }
      },
      "execution_count": null,
      "outputs": [
        {
          "output_type": "stream",
          "name": "stdout",
          "text": [
            "      *\n",
            "     **\n",
            "    ***\n",
            "   ****\n",
            "  *****\n"
          ]
        }
      ]
    },
    {
      "cell_type": "code",
      "source": [
        "\n",
        "for i in range(1,13,2):\n",
        "    print((i*\"*\").center(12,\" \"))"
      ],
      "metadata": {
        "id": "IW3qMWELDRRr",
        "outputId": "b6f52c40-4b71-4bc6-863e-f6cda5aef63e",
        "colab": {
          "base_uri": "https://localhost:8080/"
        }
      },
      "execution_count": null,
      "outputs": [
        {
          "output_type": "stream",
          "name": "stdout",
          "text": [
            "     *      \n",
            "    ***     \n",
            "   *****    \n",
            "  *******   \n",
            " *********  \n",
            "*********** \n"
          ]
        }
      ]
    },
    {
      "cell_type": "code",
      "source": [
        "\n",
        "s=\" \"\n",
        "for j in range(1,6):\n",
        "    s+=f\"{j}\"+\" \"\n",
        "    print(s.center(11, \" \"))\n",
        "s=\" \""
      ],
      "metadata": {
        "id": "Y6U61dT4DRLL",
        "outputId": "dade5d9c-e96e-4d5f-c152-c58cf260b7b9",
        "colab": {
          "base_uri": "https://localhost:8080/"
        }
      },
      "execution_count": null,
      "outputs": [
        {
          "output_type": "stream",
          "name": "stdout",
          "text": [
            "     1     \n",
            "    1 2    \n",
            "   1 2 3   \n",
            "  1 2 3 4  \n",
            " 1 2 3 4 5 \n"
          ]
        }
      ]
    },
    {
      "cell_type": "code",
      "source": [
        "\n",
        "s=\" \"\n",
        "for j in range(5,0,-1):\n",
        "    s+=f\"{j}\"+\" \"\n",
        "    print(s.center(11, \" \"))\n",
        "s=\" \""
      ],
      "metadata": {
        "id": "EuYoez1bDREI",
        "outputId": "6e96a9aa-e0a7-49a8-951b-ef2af14991d3",
        "colab": {
          "base_uri": "https://localhost:8080/"
        }
      },
      "execution_count": null,
      "outputs": [
        {
          "output_type": "stream",
          "name": "stdout",
          "text": [
            "     5     \n",
            "    5 4    \n",
            "   5 4 3   \n",
            "  5 4 3 2  \n",
            " 5 4 3 2 1 \n"
          ]
        }
      ]
    },
    {
      "cell_type": "code",
      "source": [
        "x=\"\"\n",
        "for i in range(65,71):\n",
        "        x=x+chr(i)+\" \"\n",
        "        print(x.center(12,\" \"))\n",
        "        print(\"\\n\")"
      ],
      "metadata": {
        "id": "vJ7tzqXSDQ9g",
        "outputId": "d5d6e84c-4bb6-499e-f741-5b6de9c7fbfa",
        "colab": {
          "base_uri": "https://localhost:8080/"
        }
      },
      "execution_count": null,
      "outputs": [
        {
          "output_type": "stream",
          "name": "stdout",
          "text": [
            "     A      \n",
            "\n",
            "\n",
            "    A B     \n",
            "\n",
            "\n",
            "   A B C    \n",
            "\n",
            "\n",
            "  A B C D   \n",
            "\n",
            "\n",
            " A B C D E  \n",
            "\n",
            "\n",
            "A B C D E F \n",
            "\n",
            "\n"
          ]
        }
      ]
    },
    {
      "cell_type": "code",
      "source": [
        "x=\"\"\n",
        "for i in range(70,64,-1):\n",
        "        x=x+chr(i)+\" \"\n",
        "        print(x.center(12,\" \"))\n",
        "        print(\"\\n\")"
      ],
      "metadata": {
        "id": "ZnkhwLDQDQ2k",
        "outputId": "19566fa3-0a0a-4c09-a68a-9471679b058f",
        "colab": {
          "base_uri": "https://localhost:8080/"
        }
      },
      "execution_count": null,
      "outputs": [
        {
          "output_type": "stream",
          "name": "stdout",
          "text": [
            "     F      \n",
            "\n",
            "\n",
            "    F E     \n",
            "\n",
            "\n",
            "   F E D    \n",
            "\n",
            "\n",
            "  F E D C   \n",
            "\n",
            "\n",
            " F E D C B  \n",
            "\n",
            "\n",
            "F E D C B A \n",
            "\n",
            "\n"
          ]
        }
      ]
    },
    {
      "cell_type": "code",
      "source": [
        "for i in range(1,10,3):\n",
        "    str=\"*\"*i\n",
        "    print(str.center(12, \" \"))"
      ],
      "metadata": {
        "id": "UhGI_vW7DQwy",
        "outputId": "37b6f7af-eb01-49e1-b6b0-781b730bcff7",
        "colab": {
          "base_uri": "https://localhost:8080/"
        }
      },
      "execution_count": null,
      "outputs": [
        {
          "output_type": "stream",
          "name": "stdout",
          "text": [
            "     *      \n",
            "    ****    \n",
            "  *******   \n"
          ]
        }
      ]
    },
    {
      "cell_type": "code",
      "source": [
        "\n",
        "s=\" \"\n",
        "for i in range(1,7):\n",
        "    for j in range(1,i+1):\n",
        "        s+=f\"{i}\"+\" \"\n",
        "    print(s.center(13, \" \"))\n",
        "    s=\" \""
      ],
      "metadata": {
        "id": "K64L7M9iDQqi",
        "outputId": "be80ee3f-6136-41ca-969a-9d351de1394b",
        "colab": {
          "base_uri": "https://localhost:8080/"
        }
      },
      "execution_count": null,
      "outputs": [
        {
          "output_type": "stream",
          "name": "stdout",
          "text": [
            "      1      \n",
            "     2 2     \n",
            "    3 3 3    \n",
            "   4 4 4 4   \n",
            "  5 5 5 5 5  \n",
            " 6 6 6 6 6 6 \n"
          ]
        }
      ]
    },
    {
      "cell_type": "code",
      "source": [
        "\n",
        "s=\" \"\n",
        "for i in range(65,70):\n",
        "    for j in range(0,i-64):\n",
        "        s+=chr(i)+\" \"\n",
        "    print(s.center(15, \" \"))\n",
        "    s=\" \"\n"
      ],
      "metadata": {
        "id": "39GNGCXnDQkU",
        "outputId": "abe97558-c650-4ebd-bdcd-722894c3b87e",
        "colab": {
          "base_uri": "https://localhost:8080/"
        }
      },
      "execution_count": null,
      "outputs": [
        {
          "output_type": "stream",
          "name": "stdout",
          "text": [
            "       A       \n",
            "      B B      \n",
            "     C C C     \n",
            "    D D D D    \n",
            "   E E E E E   \n"
          ]
        }
      ]
    },
    {
      "cell_type": "code",
      "source": [
        "\n",
        "s=\" \"\n",
        "for j in range (1,7):\n",
        "    s+=f\"{j}\"+\" \"\n",
        "    print(s.center(15,\" \"))\n",
        "s=\" \"\n"
      ],
      "metadata": {
        "id": "nkr-8Z3GDQek",
        "outputId": "0e029c2c-e451-4e96-b84f-ef7632538998",
        "colab": {
          "base_uri": "https://localhost:8080/"
        }
      },
      "execution_count": null,
      "outputs": [
        {
          "output_type": "stream",
          "name": "stdout",
          "text": [
            "       1       \n",
            "      1 2      \n",
            "     1 2 3     \n",
            "    1 2 3 4    \n",
            "   1 2 3 4 5   \n",
            "  1 2 3 4 5 6  \n"
          ]
        }
      ]
    },
    {
      "cell_type": "code",
      "source": [
        "\n",
        "for i in range(6,0,-1):\n",
        "    for j in range (1,i):\n",
        "        print(j, end=\" \")\n",
        "\n",
        "    print(\"\\n\")"
      ],
      "metadata": {
        "id": "6HwM6VsmDQYZ",
        "outputId": "e51269fe-f6b9-485c-d78b-efe3a14c8eab",
        "colab": {
          "base_uri": "https://localhost:8080/"
        }
      },
      "execution_count": null,
      "outputs": [
        {
          "output_type": "stream",
          "name": "stdout",
          "text": [
            "1 2 3 4 5 \n",
            "\n",
            "1 2 3 4 \n",
            "\n",
            "1 2 3 \n",
            "\n",
            "1 2 \n",
            "\n",
            "1 \n",
            "\n",
            "\n",
            "\n"
          ]
        }
      ]
    },
    {
      "cell_type": "code",
      "source": [
        "x=5\n",
        "for i in range(5,0,-1):\n",
        "    for j in range (i,0,-1):\n",
        "        print(x, end=\" \")\n",
        "        x=x-1\n",
        "\n",
        "    print(\"\\n\")\n",
        "    x=5"
      ],
      "metadata": {
        "id": "YrXWhfBCDQVO",
        "outputId": "12920aff-59cb-42f8-c745-6f989f552bfc",
        "colab": {
          "base_uri": "https://localhost:8080/"
        }
      },
      "execution_count": null,
      "outputs": [
        {
          "output_type": "stream",
          "name": "stdout",
          "text": [
            "5 4 3 2 1 \n",
            "\n",
            "5 4 3 2 \n",
            "\n",
            "5 4 3 \n",
            "\n",
            "5 4 \n",
            "\n",
            "5 \n",
            "\n"
          ]
        }
      ]
    },
    {
      "cell_type": "code",
      "source": [
        "\n",
        "x=5\n",
        "for i in range(1,6):\n",
        "    for j in range (i,0,-1):\n",
        "        print(x, end=\" \")\n",
        "        x=x-1\n",
        "\n",
        "    print(\"\\n\")\n",
        "    x=5"
      ],
      "metadata": {
        "id": "LWvI4JXCDQPP",
        "outputId": "1985f437-98a0-45f6-b6b7-3e0c23658b39",
        "colab": {
          "base_uri": "https://localhost:8080/"
        }
      },
      "execution_count": null,
      "outputs": [
        {
          "output_type": "stream",
          "name": "stdout",
          "text": [
            "5 \n",
            "\n",
            "5 4 \n",
            "\n",
            "5 4 3 \n",
            "\n",
            "5 4 3 2 \n",
            "\n",
            "5 4 3 2 1 \n",
            "\n"
          ]
        }
      ]
    },
    {
      "cell_type": "code",
      "source": [
        "\n",
        "x=1\n",
        "for i in range(1,6):\n",
        "    for j in range (i,0,-1):\n",
        "        print(x, end=\" \")\n",
        "        x=x+1\n",
        "\n",
        "    print(\"\\n\")\n"
      ],
      "metadata": {
        "id": "jAu09vc8DQMW",
        "outputId": "c0305ab1-170c-4c06-fcee-d814f3c203ee",
        "colab": {
          "base_uri": "https://localhost:8080/"
        }
      },
      "execution_count": null,
      "outputs": [
        {
          "output_type": "stream",
          "name": "stdout",
          "text": [
            "1 \n",
            "\n",
            "2 3 \n",
            "\n",
            "4 5 6 \n",
            "\n",
            "7 8 9 10 \n",
            "\n",
            "11 12 13 14 15 \n",
            "\n"
          ]
        }
      ]
    },
    {
      "cell_type": "code",
      "source": [
        "\n",
        "for i in range(1,6):\n",
        "    for j in range (65,71-i):\n",
        "        print(chr(j), end=\" \")\n",
        "\n",
        "    print(\"\\n\")"
      ],
      "metadata": {
        "id": "3U4t8LMMDQGM",
        "outputId": "e5b62153-f2fd-47e1-c8ce-2436b18631be",
        "colab": {
          "base_uri": "https://localhost:8080/"
        }
      },
      "execution_count": null,
      "outputs": [
        {
          "output_type": "stream",
          "name": "stdout",
          "text": [
            "A B C D E \n",
            "\n",
            "A B C D \n",
            "\n",
            "A B C \n",
            "\n",
            "A B \n",
            "\n",
            "A \n",
            "\n"
          ]
        }
      ]
    },
    {
      "cell_type": "code",
      "source": [],
      "metadata": {
        "id": "sZwi_PDhFpDP"
      },
      "execution_count": null,
      "outputs": []
    },
    {
      "cell_type": "code",
      "source": [],
      "metadata": {
        "id": "s8Go-5NyFo_t"
      },
      "execution_count": null,
      "outputs": []
    },
    {
      "cell_type": "code",
      "source": [],
      "metadata": {
        "id": "u9KKfW-BFo9c"
      },
      "execution_count": null,
      "outputs": []
    },
    {
      "cell_type": "code",
      "source": [],
      "metadata": {
        "id": "nDz-NCz9Fo6n"
      },
      "execution_count": null,
      "outputs": []
    },
    {
      "cell_type": "code",
      "source": [],
      "metadata": {
        "id": "tGC7T9tYFo3_"
      },
      "execution_count": null,
      "outputs": []
    },
    {
      "cell_type": "code",
      "source": [],
      "metadata": {
        "id": "PfH-z8YPFo1j"
      },
      "execution_count": null,
      "outputs": []
    },
    {
      "cell_type": "code",
      "source": [],
      "metadata": {
        "id": "yIuXvIAuFoyp"
      },
      "execution_count": null,
      "outputs": []
    },
    {
      "cell_type": "code",
      "source": [],
      "metadata": {
        "id": "DCMU94eDFowG"
      },
      "execution_count": null,
      "outputs": []
    },
    {
      "cell_type": "code",
      "source": [],
      "metadata": {
        "id": "kxVOWLfaFotZ"
      },
      "execution_count": null,
      "outputs": []
    },
    {
      "cell_type": "code",
      "source": [],
      "metadata": {
        "id": "I0547YSDFoqZ"
      },
      "execution_count": null,
      "outputs": []
    },
    {
      "cell_type": "code",
      "source": [],
      "metadata": {
        "id": "iHfUrs0DFonm"
      },
      "execution_count": null,
      "outputs": []
    },
    {
      "cell_type": "code",
      "source": [],
      "metadata": {
        "id": "buFR17JfFok7"
      },
      "execution_count": null,
      "outputs": []
    },
    {
      "cell_type": "code",
      "source": [],
      "metadata": {
        "id": "IehRCRalFoiV"
      },
      "execution_count": null,
      "outputs": []
    },
    {
      "cell_type": "code",
      "source": [],
      "metadata": {
        "id": "MyjqasGJFofi"
      },
      "execution_count": null,
      "outputs": []
    },
    {
      "cell_type": "code",
      "source": [],
      "metadata": {
        "id": "piw40FHXFocy"
      },
      "execution_count": null,
      "outputs": []
    },
    {
      "cell_type": "code",
      "source": [],
      "metadata": {
        "id": "zheuwNDuFoag"
      },
      "execution_count": null,
      "outputs": []
    },
    {
      "cell_type": "code",
      "source": [],
      "metadata": {
        "id": "DbUPU2uuFoXs"
      },
      "execution_count": null,
      "outputs": []
    },
    {
      "cell_type": "code",
      "source": [],
      "metadata": {
        "id": "6QNsQR2hFoVC"
      },
      "execution_count": null,
      "outputs": []
    },
    {
      "cell_type": "code",
      "source": [],
      "metadata": {
        "id": "gcIO2Sw9FoSV"
      },
      "execution_count": null,
      "outputs": []
    },
    {
      "cell_type": "code",
      "source": [],
      "metadata": {
        "id": "wSINlAkaFoPr"
      },
      "execution_count": null,
      "outputs": []
    },
    {
      "cell_type": "code",
      "source": [],
      "metadata": {
        "id": "uBoTYXW7FoNB"
      },
      "execution_count": null,
      "outputs": []
    }
  ],
  "metadata": {
    "colab": {
      "provenance": []
    },
    "kernelspec": {
      "display_name": "Python 3",
      "name": "python3"
    }
  },
  "nbformat": 4,
  "nbformat_minor": 0
}